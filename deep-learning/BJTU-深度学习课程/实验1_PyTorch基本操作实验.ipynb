{
 "cells": [
  {
   "cell_type": "code",
   "id": "automatic-superintendent",
   "metadata": {
    "pycharm": {
     "name": "#%%\n"
    },
    "ExecuteTime": {
     "end_time": "2024-11-30T06:04:18.538340Z",
     "start_time": "2024-11-30T06:04:15.858410Z"
    }
   },
   "source": [
    "import torch\n",
    "import torchvision\n",
    "import torch.utils.data as Data\n",
    "import torch.optim as optim\n",
    "import random\n",
    "import numpy as np\n",
    "\n",
    "from torch import nn\n",
    "from matplotlib import pyplot as plt"
   ],
   "outputs": [
    {
     "name": "stderr",
     "output_type": "stream",
     "text": [
      "[HAMI-core Msg(8219:139805994032000:libvgpu.c:836)]: Initializing.....\n"
     ]
    }
   ],
   "execution_count": 1
  },
  {
   "cell_type": "markdown",
   "id": "thirty-conspiracy",
   "metadata": {
    "pycharm": {
     "name": "#%% md\n"
    }
   },
   "source": [
    "### Pytorch基本操作考察\n",
    "#### 减法操作\n",
    "使用𝐓𝐞𝐧𝐬𝐨𝐫初始化一个𝟏×𝟑的矩阵𝑴和一个𝟐×𝟏的矩阵𝑵，对两矩阵进行减法操作(要求实现三种不同的形式)，给出结果并分析三种方式的不同(如果出现报错，分析报错的原因)，同时需要指出在计算过程中发生了什么。"
   ]
  },
  {
   "cell_type": "code",
   "execution_count": 2,
   "id": "single-stylus",
   "metadata": {
    "pycharm": {
     "name": "#%%\n"
    }
   },
   "outputs": [
    {
     "data": {
      "text/plain": [
       "(tensor([[4, 5, 6]]),\n",
       " tensor([[1],\n",
       "         [2]]))"
      ]
     },
     "execution_count": 2,
     "metadata": {},
     "output_type": "execute_result"
    }
   ],
   "source": [
    "M = torch.tensor([[4, 5, 6]])\n",
    "N = torch.tensor([[1], [2]])\n",
    "M, N"
   ]
  },
  {
   "cell_type": "code",
   "execution_count": 3,
   "id": "numeric-cleveland",
   "metadata": {
    "pycharm": {
     "name": "#%%\n"
    }
   },
   "outputs": [
    {
     "data": {
      "text/plain": [
       "tensor([[3, 4, 5],\n",
       "        [2, 3, 4]])"
      ]
     },
     "execution_count": 3,
     "metadata": {},
     "output_type": "execute_result"
    }
   ],
   "source": [
    "M - N"
   ]
  },
  {
   "cell_type": "code",
   "execution_count": 4,
   "id": "geographic-angle",
   "metadata": {
    "pycharm": {
     "name": "#%%\n"
    }
   },
   "outputs": [
    {
     "data": {
      "text/plain": [
       "tensor([[3, 4, 5],\n",
       "        [2, 3, 4]])"
      ]
     },
     "execution_count": 4,
     "metadata": {},
     "output_type": "execute_result"
    }
   ],
   "source": [
    "torch.sub(M, N)"
   ]
  },
  {
   "cell_type": "code",
   "execution_count": 5,
   "id": "essential-saturn",
   "metadata": {
    "pycharm": {
     "name": "#%%\n"
    }
   },
   "outputs": [
    {
     "data": {
      "text/plain": [
       "(tensor([[3, 4, 5],\n",
       "         [2, 3, 4]]),\n",
       " tensor([[4, 5, 6]]))"
      ]
     },
     "execution_count": 5,
     "metadata": {},
     "output_type": "execute_result"
    }
   ],
   "source": [
    "# 非原地操作, 减法操作后返回新矩阵，M不变\n",
    "M.sub(N), M"
   ]
  },
  {
   "cell_type": "code",
   "execution_count": 6,
   "id": "comprehensive-bearing",
   "metadata": {
    "pycharm": {
     "name": "#%%\n"
    }
   },
   "outputs": [
    {
     "ename": "RuntimeError",
     "evalue": "output with shape [1, 3] doesn't match the broadcast shape [2, 3]",
     "output_type": "error",
     "traceback": [
      "\u001B[0;31m---------------------------------------------------------------------------\u001B[0m",
      "\u001B[0;31mRuntimeError\u001B[0m                              Traceback (most recent call last)",
      "\u001B[0;32m<ipython-input-6-ebcaa8933493>\u001B[0m in \u001B[0;36m<module>\u001B[0;34m\u001B[0m\n\u001B[1;32m      1\u001B[0m \u001B[0;31m# 由于广播机制，计算后的矩阵形状为(2,3)，而 M 为(1,3)，无法进行原地操作，因而报错\u001B[0m\u001B[0;34m\u001B[0m\u001B[0;34m\u001B[0m\u001B[0m\n\u001B[0;32m----> 2\u001B[0;31m \u001B[0mM\u001B[0m\u001B[0;34m.\u001B[0m\u001B[0msub_\u001B[0m\u001B[0;34m(\u001B[0m\u001B[0mN\u001B[0m\u001B[0;34m)\u001B[0m\u001B[0;34m\u001B[0m\u001B[0m\n\u001B[0m\u001B[1;32m      3\u001B[0m \u001B[0;34m\u001B[0m\u001B[0m\n",
      "\u001B[0;31mRuntimeError\u001B[0m: output with shape [1, 3] doesn't match the broadcast shape [2, 3]"
     ]
    }
   ],
   "source": [
    "# 由于广播机制，计算后的矩阵形状为(2,3)，而 M 为(1,3)，无法进行原地操作，因而报错\n",
    "M.sub_(N)"
   ]
  },
  {
   "cell_type": "markdown",
   "id": "exempt-wildlife",
   "metadata": {
    "pycharm": {
     "name": "#%% md\n"
    }
   },
   "source": [
    "#### 矩阵求内积\n",
    "(1) 利用 𝐓𝐞𝐧𝐬𝐨𝐫 创建两个大小分别𝟑×𝟐和𝟒×𝟐的随机数矩阵𝑷和𝑸，要求服从均值为0，标准差0.01为的正态分布;<br>\n",
    "(2) 对第二步得到的矩阵 𝑸 进行形状变换得到 𝑸 的转置 𝑸𝑻 ;<br>\n",
    "(3) 对上述得 到的矩阵 𝑷 和矩阵 𝑸𝑻 求内积"
   ]
  },
  {
   "cell_type": "code",
   "execution_count": 9,
   "id": "grand-helen",
   "metadata": {
    "pycharm": {
     "name": "#%%\n"
    }
   },
   "outputs": [
    {
     "data": {
      "text/plain": [
       "(tensor([[-9.4909e-03, -1.0810e-02],\n",
       "         [-8.7318e-03,  4.7816e-03],\n",
       "         [-9.8802e-03,  6.8840e-05]]),\n",
       " tensor([[ 0.0051,  0.0162],\n",
       "         [ 0.0069,  0.0008],\n",
       "         [ 0.0046, -0.0049],\n",
       "         [-0.0097, -0.0086]]))"
      ]
     },
     "execution_count": 9,
     "metadata": {},
     "output_type": "execute_result"
    }
   ],
   "source": [
    "P = torch.normal(mean=0.0, std=0.01, size=(3, 2))\n",
    "Q = torch.normal(mean=0.0, std=0.01, size=(4, 2))\n",
    "P, Q"
   ]
  },
  {
   "cell_type": "code",
   "execution_count": 10,
   "id": "assured-voice",
   "metadata": {
    "pycharm": {
     "name": "#%%\n"
    }
   },
   "outputs": [
    {
     "data": {
      "text/plain": [
       "tensor([[ 0.0051,  0.0069,  0.0046, -0.0097],\n",
       "        [ 0.0162,  0.0008, -0.0049, -0.0086]])"
      ]
     },
     "execution_count": 10,
     "metadata": {},
     "output_type": "execute_result"
    }
   ],
   "source": [
    "Q_T = Q.T\n",
    "Q_T"
   ]
  },
  {
   "cell_type": "code",
   "execution_count": 11,
   "id": "gentle-header",
   "metadata": {
    "pycharm": {
     "name": "#%%\n"
    }
   },
   "outputs": [
    {
     "data": {
      "text/plain": [
       "tensor([[-2.2356e-04, -7.3904e-05,  8.9038e-06,  1.8544e-04],\n",
       "        [ 3.2586e-05, -5.6746e-05, -6.3646e-05,  4.3839e-05],\n",
       "        [-4.9551e-05, -6.8289e-05, -4.5960e-05,  9.5585e-05]])"
      ]
     },
     "execution_count": 11,
     "metadata": {},
     "output_type": "execute_result"
    }
   ],
   "source": [
    "# 相当于矩阵乘积\n",
    "torch.mm(P, Q_T)"
   ]
  },
  {
   "cell_type": "markdown",
   "id": "organized-commercial",
   "metadata": {
    "pycharm": {
     "name": "#%% md\n"
    }
   },
   "source": [
    "#### 梯度计算\n",
    "给定公式 $𝑦_3 = 𝑦_1 + 𝑦_2 = x^2 + x^3 $，且 $𝑥=1$。利用学习所得到的Tensor的相关知识，求 $𝑦_3$ 对 $x$ 的梯度，即 $\\frac {dy_3} {dx}$。<br>\n",
    "要求在计算过程中，在计算 $𝑥^3$ 时中断梯度的追踪，观察结果并进行原因分析。<br>\n",
    "提示：可使用 with torch.no_grad()<br>"
   ]
  },
  {
   "cell_type": "code",
   "execution_count": 18,
   "id": "removable-attraction",
   "metadata": {
    "pycharm": {
     "name": "#%%\n"
    }
   },
   "outputs": [
    {
     "data": {
      "text/plain": [
       "tensor([2.])"
      ]
     },
     "execution_count": 18,
     "metadata": {},
     "output_type": "execute_result"
    }
   ],
   "source": [
    "x = torch.ones(1,requires_grad=True)\n",
    "y1 = x**2\n",
    "\n",
    "with torch.no_grad():\n",
    "    y2 = x**3\n",
    "    \n",
    "y3 = y1 + y2\n",
    "y3.backward()\n",
    "x.grad"
   ]
  },
  {
   "cell_type": "code",
   "execution_count": 17,
   "id": "fewer-testimony",
   "metadata": {
    "pycharm": {
     "name": "#%%\n"
    }
   },
   "outputs": [
    {
     "data": {
      "text/plain": [
       "tensor([5.])"
      ]
     },
     "execution_count": 17,
     "metadata": {},
     "output_type": "execute_result"
    }
   ],
   "source": [
    "x = torch.ones(1,requires_grad=True)\n",
    "y1 = x**2\n",
    "y2 = x**3\n",
    "    \n",
    "y3 = y1 + y2\n",
    "y3.backward()\n",
    "x.grad"
   ]
  },
  {
   "cell_type": "markdown",
   "id": "banned-engineer",
   "metadata": {
    "pycharm": {
     "name": "#%% md\n"
    }
   },
   "source": [
    "### 训练集\n",
    "\n",
    "\n",
    "#### 人工构造的数据集"
   ]
  },
  {
   "cell_type": "code",
   "execution_count": 3,
   "id": "veterinary-robertson",
   "metadata": {
    "pycharm": {
     "name": "#%%\n"
    }
   },
   "outputs": [
    {
     "data": {
      "image/png": "[encoded data removed]",
      "text/plain": [
       "<Figure size 432x288 with 1 Axes>"
      ]
     },
     "metadata": {
      "needs_background": "light"
     },
     "output_type": "display_data"
    }
   ],
   "source": [
    "n_data = torch.ones(100, 2)         # 数据的基本形态\n",
    "x1 = torch.normal(2 * n_data, 1)   # shape=(50, 2)，服从均值为1、标准差为1的正态分布\n",
    "y1 = torch.zeros(100)               # 类型0 shape=(50, 1)\n",
    "x2 = torch.normal(-2 * n_data, 1)  # 类型1 shape=(50, 1) \n",
    "y2 = torch.ones(100)                # 类型1 shape=(50, 1)\n",
    "\n",
    "# 注意 x, y 数据的数据形式一定要像下面一样 (torch.cat 是合并数据) \n",
    "x_all = torch.cat((x1, x2), 0).type('torch.FloatTensor')\n",
    "y_all = torch.cat((y1, y2), 0).type('torch.FloatTensor')\n",
    "\n",
    "# 可视化\n",
    "plt.scatter(x_all.data.numpy()[:, 0], x_all.data.numpy()[:, 1],\n",
    "            c=y_all.data.numpy(), s=100, lw=0, cmap='RdYlGn')\n",
    "plt.show()"
   ]
  },
  {
   "cell_type": "code",
   "execution_count": 4,
   "id": "appointed-sustainability",
   "metadata": {
    "pycharm": {
     "name": "#%%\n"
    }
   },
   "outputs": [
    {
     "data": {
      "text/plain": [
       "(torch.Size([140, 2]),\n",
       " torch.Size([140]),\n",
       " torch.Size([60, 2]),\n",
       " torch.Size([60]))"
      ]
     },
     "execution_count": 4,
     "metadata": {},
     "output_type": "execute_result"
    }
   ],
   "source": [
    "def train_test_split(x: torch.Tensor, y: torch.Tensor,\n",
    "                     shuffle: bool=True, seed=1, test_size=0.3):\n",
    "    \"\"\" 切分数据集 \"\"\"\n",
    "    num_samples = x.shape[0]\n",
    "    indices = list(range(num_samples))\n",
    "\n",
    "    # 混洗\n",
    "    if shuffle:\n",
    "        random.seed(seed)\n",
    "        random.shuffle(indices)\n",
    "\n",
    "    # 切分数据集\n",
    "    num_train = int(num_samples*(1-test_size))\n",
    "\n",
    "    # 切片\n",
    "    indices_train = torch.tensor(indices[: num_train])\n",
    "    indices_test = torch.tensor(indices[num_train:])\n",
    "\n",
    "    return x.index_select(dim=0, index=indices_train), y.index_select(dim=0, index=indices_train),\\\n",
    "           x.index_select(dim=0, index=indices_test), y.index_select(dim=0, index=indices_test)\n",
    "\n",
    "def data_iter(x: torch.Tensor, y: torch.Tensor, batch_size: int=8):\n",
    "    \"\"\" 数据集生成器 \"\"\"\n",
    "\n",
    "    num_samples = x.shape[0]\n",
    "    indices = list(range(num_samples))\n",
    "\n",
    "    # 构造小批次数据集\n",
    "    for i in range(0, num_samples, batch_size):\n",
    "\n",
    "        # 选取的该批次内的行索引\n",
    "        j = torch.tensor(indices[i: min(i+batch_size, num_samples)])\n",
    "\n",
    "        yield x.index_select(dim=0, index=j), y.index_select(0, j)\n",
    "\n",
    "\n",
    "# 切分数据集\n",
    "x_train, y_train, x_test, y_test = train_test_split(x_all, y_all, test_size=0.3)\n",
    "\n",
    "x_train.shape, y_train.shape, x_test.shape, y_test.shape"
   ]
  },
  {
   "cell_type": "markdown",
   "id": "coupled-aside",
   "metadata": {
    "pycharm": {
     "name": "#%% md\n"
    }
   },
   "source": [
    "##### 从0实现logistic回归\n",
    "要求动手从0实现logistic回归(只借助Tensor和Numpy相关的库)在人工构造的数据集上进行训练和测试，<br>\n",
    "并从loss、训练集以及测试集上的准确率等多个角度对结果进行分析。<br>\n",
    "(可借助nn.BCELoss或nn.BCEWithLogitsLoss作为损失函数，从零实现二元交叉熵为选作)<br>"
   ]
  },
  {
   "cell_type": "code",
   "execution_count": 5,
   "id": "joined-cedar",
   "metadata": {
    "pycharm": {
     "name": "#%%\n"
    }
   },
   "outputs": [
    {
     "name": "stdout",
     "output_type": "stream",
     "text": [
      "epoch 1, loss 0.147422\n",
      "epoch 2, loss 0.090928\n",
      "epoch 3, loss 0.068785\n",
      "epoch 4, loss 0.056685\n",
      "epoch 5, loss 0.048948\n",
      "epoch 6, loss 0.043523\n",
      "epoch 7, loss 0.039480\n",
      "epoch 8, loss 0.036333\n",
      "epoch 9, loss 0.033803\n",
      "epoch 10, loss 0.031717\n"
     ]
    },
    {
     "data": {
      "text/plain": [
       "(tensor([[-1.1707],\n",
       "         [-1.1536]], requires_grad=True),\n",
       " tensor([0.0208], requires_grad=True))"
      ]
     },
     "execution_count": 5,
     "metadata": {},
     "output_type": "execute_result"
    }
   ],
   "source": [
    "def sigmoid(x: torch.Tensor, w: torch.Tensor, b: torch.Tensor) -> torch.Tensor:\n",
    "    \"\"\"\n",
    "    激活函数-逻辑斯蒂回归\n",
    "    x: [batch_size, num_inputs]\n",
    "    w: [num_inputs, 1]\n",
    "    b: [1, ]\n",
    "    :return [batch_size, 1]\n",
    "    \"\"\"\n",
    "    return 1 / (1 + torch.exp(-(torch.mm(x, w) + b)))\n",
    "\n",
    "\n",
    "def binary_cross_entropy(y_hat: torch.Tensor, y_true: torch.Tensor) -> torch.Tensor:\n",
    "    \"\"\"\n",
    "    损失函数-二元交叉熵\n",
    "    :param y_hat(one_hot):   预测值 (batch_size, 1)\n",
    "    :param y_true:           真值  (batch_size)\n",
    "    :return:\n",
    "    \"\"\"\n",
    "    l =  y_true * torch.log(y_hat) + (1-y_true) * torch.log(1 - y_hat)\n",
    "    return - l.sum()/y_true.shape[0]\n",
    "\n",
    "def sgd(*params, lr, batch_size):\n",
    "    \"\"\"\n",
    "    优化器-梯度下降\n",
    "    :param params:      参数列表\n",
    "    :param lr:          学习率\n",
    "    :param batch_size:  批次大小\n",
    "    :return:\n",
    "    \"\"\"\n",
    "    for param in params:\n",
    "        # 注意这里更改param时用的param.data\n",
    "        param.data -= lr * param.grad / batch_size\n",
    "\n",
    "# 参数配置\n",
    "num_inputs = x_train.shape[1]\n",
    "num_samples = x_train.shape[0]\n",
    "batch_size = 8\n",
    "num_epochs = 10\n",
    "lr = 0.5\n",
    "net = sigmoid\n",
    "loss = binary_cross_entropy\n",
    "\n",
    "# 模型训练 w = [w_0, ..., w_n]\n",
    "w = torch.tensor(np.random.normal(0, 0.01, (num_inputs, 1)),\n",
    "                 dtype=torch.float32,\n",
    "                 requires_grad=True)\n",
    "b = torch.zeros(1, dtype=torch.float32, requires_grad=True)\n",
    "\n",
    "for epoch in range(num_epochs):\n",
    "\n",
    "    # 读取数据集\n",
    "    iter_train = data_iter(x_train, y_train, batch_size=batch_size)\n",
    "\n",
    "    # 一批次的训练数据\n",
    "    for X, y_true in iter_train:\n",
    "\n",
    "        # 模型预测值\n",
    "        y_hat = net(X, w, b)\n",
    "\n",
    "        # 损失值\n",
    "        # (batch_size, 1) => (batch_size, )\n",
    "        y_hat = y_hat.view(y_true.size())\n",
    "        l = loss(y_hat, y_true)\n",
    "\n",
    "        # 反向传播\n",
    "        l.backward()\n",
    "\n",
    "        # 随机梯度下降\n",
    "        sgd(w, b, lr=lr, batch_size=batch_size)\n",
    "\n",
    "        # 梯度置零\n",
    "        w.grad.data.zero_()\n",
    "        b.grad.data.zero_()\n",
    "\n",
    "    y_hat = net(x_train, w, b)\n",
    "    y_hat = y_hat.view(y_train.size())\n",
    "    train_l = loss(y_hat, y_train)\n",
    "    print('epoch %d, loss %f' % (epoch + 1, train_l))\n",
    "\n",
    "w, b"
   ]
  },
  {
   "cell_type": "code",
   "execution_count": 6,
   "id": "flush-bacteria",
   "metadata": {
    "pycharm": {
     "name": "#%%\n"
    }
   },
   "outputs": [
    {
     "name": "stdout",
     "output_type": "stream",
     "text": [
      "accuracy = tensor(1.)\n"
     ]
    }
   ],
   "source": [
    "# 评估-准确率\n",
    "def accuracy_count(y_hat: torch.Tensor, y: torch.Tensor):\n",
    "    mask = y_hat > 0.5\n",
    "    y_hat[mask] = 1\n",
    "    y_hat[~mask] = 0\n",
    "    return (y_hat == y).sum()\n",
    "\n",
    "iter_test = data_iter(x_test, y_test, batch_size=batch_size)\n",
    "acc_sum, n = 0.0, 0\n",
    "for X, y in iter_test:\n",
    "\n",
    "    y_hat = net(X, w, b)\n",
    "    y_hat = y_hat.view(y.size())\n",
    "\n",
    "    acc_sum += accuracy_count(y_hat, y)\n",
    "    n += y.shape[0]\n",
    "acc_sum = acc_sum / n\n",
    "\n",
    "print('accuracy =', acc_sum)"
   ]
  },
  {
   "cell_type": "markdown",
   "id": "reasonable-welcome",
   "metadata": {
    "pycharm": {
     "name": "#%% md\n"
    }
   },
   "source": [
    "##### torch.nn 实现 logistic 回归\n",
    "利用 torch.nn 实现 logistic 回归在人工构造的数据集上进行训练和测试，<br>\n",
    "并对结果进行分析， 并从loss、训练集以及测试集上的准确率等多个角度对结果进行分析"
   ]
  },
  {
   "cell_type": "code",
   "execution_count": 33,
   "id": "accompanied-flavor",
   "metadata": {
    "pycharm": {
     "name": "#%%\n"
    }
   },
   "outputs": [
    {
     "name": "stdout",
     "output_type": "stream",
     "text": [
      "epoch 1, loss 0.033113\n",
      "epoch 2, loss 0.012771\n",
      "epoch 3, loss 0.009272\n",
      "epoch 4, loss 0.007705\n",
      "epoch 5, loss 0.006359\n",
      "epoch 6, loss 0.005003\n",
      "epoch 7, loss 0.003706\n",
      "epoch 8, loss 0.002586\n",
      "epoch 9, loss 0.001717\n",
      "epoch 10, loss 0.001103\n",
      "tensor(1.)\n"
     ]
    }
   ],
   "source": [
    "class LogisticRegressionModel(torch.nn.Module):\n",
    "    \"\"\" 逻辑斯蒂回归模型 \"\"\"\n",
    "    def __init__(self, num_features):\n",
    "        super(LogisticRegressionModel, self).__init__()\n",
    "        self.linear = torch.nn.Linear(num_features, 1)\n",
    "\n",
    "    def forward(self, X):\n",
    "        return torch.sigmoid(self.linear(X))\n",
    "\n",
    "# 参数配置\n",
    "num_samples = x_train.shape[0]\n",
    "num_features = x_train.shape[1]\n",
    "batch_size = 8\n",
    "num_epochs = 10\n",
    "lr = 0.03\n",
    "\n",
    "net = LogisticRegressionModel(num_features)\n",
    "loss = torch.nn.BCELoss()\n",
    "optimizer = optim.SGD(net.parameters(), lr=lr)\n",
    "\n",
    "for epoch in range(num_epochs):\n",
    "\n",
    "    # 读取数据集\n",
    "    iter_train = data_iter(x_train, y_train, batch_size=batch_size)\n",
    "\n",
    "    # 一批次的训练数据\n",
    "    for X, y_true in iter_train:\n",
    "\n",
    "        # 模型预测值\n",
    "        y_hat = net(X)\n",
    "        y_hat = y_hat.view(y_true.size())\n",
    "\n",
    "        # 损失值\n",
    "        l = loss(y_hat, y_true)\n",
    "\n",
    "        # 反向传播\n",
    "        l.backward()\n",
    "\n",
    "        optimizer.step()\n",
    "\n",
    "    y_hat = net(x_train)\n",
    "    y_hat = y_hat.view(y_train.size())\n",
    "    train_l = loss(y_hat, y_train)\n",
    "    print('epoch %d, loss %f' % (epoch + 1, train_l.mean().item()))"
   ]
  },
  {
   "cell_type": "code",
   "execution_count": null,
   "id": "engaged-analyst",
   "metadata": {
    "pycharm": {
     "name": "#%%\n"
    }
   },
   "outputs": [],
   "source": [
    "# 评估: 准确率\n",
    "iter_test = data_iter(x_test, y_test, batch_size=batch_size)\n",
    "acc_sum, n = 0.0, 0\n",
    "for X, y in iter_test:\n",
    "    y_hat = net(X)\n",
    "    y_hat = y_hat.view(y.size())\n",
    "\n",
    "    acc_sum += accuracy_count(y_hat, y)\n",
    "    n += y.shape[0]\n",
    "\n",
    "print(acc_sum/n)"
   ]
  },
  {
   "cell_type": "markdown",
   "id": "funny-prime",
   "metadata": {
    "pycharm": {
     "name": "#%% md\n"
    }
   },
   "source": [
    "#### Fashion-MNIST数据集(一个多类图像分类数据集)\n",
    "训练集:60,000<br>\n",
    "测试集:10,000<br>\n",
    "每个样本的数据格式为:28$\\times$28$\\times$1(高,宽,通道)<br>\n",
    "类别(10类):<br>\n",
    "dress(连⾐衣裙)、coat(外套)、sandal(凉鞋)、shirt(衬衫)、sneaker(运动鞋)、bag(包)和ankle boot(短靴)"
   ]
  },
  {
   "cell_type": "code",
   "execution_count": 7,
   "id": "cathedral-massage",
   "metadata": {
    "pycharm": {
     "name": "#%%\n"
    }
   },
   "outputs": [
    {
     "data": {
      "text/plain": [
       "(Dataset FashionMNIST\n",
       "     Number of datapoints: 60000\n",
       "     Root location: /Users/zhengchubin/PycharmProjects/learn/data/\n",
       "     Split: Train\n",
       "     StandardTransform\n",
       " Transform: ToTensor(),\n",
       " torch.Size([60000, 28, 28]),\n",
       " torch.Size([60000]))"
      ]
     },
     "execution_count": 7,
     "metadata": {},
     "output_type": "execute_result"
    }
   ],
   "source": [
    "import torch\n",
    "import torchvision\n",
    "import torchvision.transforms as transforms\n",
    "\n",
    "dataset_dir = '/Users/zhengchubin/PycharmProjects/learn/data/'\n",
    "\n",
    "# 下载不了数据集\n",
    "# mnist_train = torchvision.datasets.FashionMNIST(root=dataset_dir, train=True, download=True, transform=transforms.ToTensor())\n",
    "# mnist_test = torchvision.datasets.FashionMNIST(root=dataset_dir, train=False, download=True, transform=transforms.ToTensor())\n",
    "\n",
    "# 手动下载数据集并读取\n",
    "mnist_train = torchvision.datasets.FashionMNIST(root=dataset_dir, train=True, transform=transforms.ToTensor())\n",
    "mnist_test = torchvision.datasets.FashionMNIST(root=dataset_dir, train=False, transform=transforms.ToTensor())\n",
    "\n",
    "mnist_train, mnist_train.data.shape, mnist_train.targets.shape"
   ]
  },
  {
   "cell_type": "markdown",
   "id": "appointed-approach",
   "metadata": {
    "pycharm": {
     "name": "#%% md\n"
    }
   },
   "source": [
    "##### 要求动手从0实现softmax回归(只借助Tensor和Numpy相关的库)在Fashion-MNIST数据集上进行训练和测试，<br>\n",
    "并从loss、训练集以及测试集上的准确率等多个角度对结果进行分析 (要求从零实现交叉熵损失函数)"
   ]
  },
  {
   "cell_type": "code",
   "execution_count": 5,
   "id": "formed-blade",
   "metadata": {
    "pycharm": {
     "name": "#%%\n"
    }
   },
   "outputs": [
    {
     "name": "stdout",
     "output_type": "stream",
     "text": [
      "epoch 1, loss 0.784691\n",
      "epoch 2, loss 0.571183\n",
      "epoch 3, loss 0.525277\n",
      "epoch 4, loss 0.501656\n",
      "epoch 5, loss 0.484789\n"
     ]
    }
   ],
   "source": [
    "def softmax(x: torch.Tensor, w: torch.Tensor, b: torch.Tensor):\n",
    "    \"\"\"\n",
    "    激活函数\n",
    "    x: [batch_size, num_features]\n",
    "    w: [num_features, num_classes]\n",
    "    b: [num_classes, ]\n",
    "    :return [batch_size, num_classes]\n",
    "    \"\"\"\n",
    "    exp_ = torch.exp(torch.mm(x, w) + b)\n",
    "    exp_sum = exp_.sum(dim=1, keepdim=True)\n",
    "    return exp_ / exp_sum\n",
    "\n",
    "\n",
    "def cross_entropy(y_hat: torch.Tensor, y_true: torch.Tensor) -> torch.Tensor:\n",
    "    \"\"\"\n",
    "    损失函数-交叉熵\n",
    "    :param y_hat(one_hot):   预测值 (batch_size, class_num)\n",
    "    :param y_true:           真值  (batch_size)\n",
    "    :return:\n",
    "    \"\"\"\n",
    "    return -torch.log(y_hat.gather(dim=1, index=y_true.view(-1, 1)))\n",
    "\n",
    "def sgd(*params, lr, batch_size):\n",
    "    \"\"\"\n",
    "    优化器-梯度下降\n",
    "    :param params:      参数列表\n",
    "    :param lr:          学习率\n",
    "    :param batch_size:  批次大小\n",
    "    :return:\n",
    "    \"\"\"\n",
    "    for param in params:\n",
    "        # 注意这里更改param时用的param.data\n",
    "        param.data -= lr * param.grad / batch_size\n",
    "\n",
    "# 参数配置\n",
    "num_features = 28 * 28\n",
    "num_classes = 10\n",
    "batch_size = 256\n",
    "num_epochs = 5\n",
    "lr = 0.1\n",
    "net = softmax\n",
    "loss = cross_entropy\n",
    "\n",
    "# 模型训练 w = [w_0, ..., w_n]\n",
    "w = torch.tensor(np.random.normal(0, 0.01, (num_features, num_classes)),\n",
    "                 dtype=torch.float32,\n",
    "                 requires_grad=True)\n",
    "b = torch.zeros(num_classes, dtype=torch.float32, requires_grad=True)\n",
    "\n",
    "for epoch in range(num_epochs):\n",
    "\n",
    "    # 读取数据集\n",
    "    iter_train = torch.utils.data.DataLoader(mnist_train, batch_size=batch_size, shuffle=True)\n",
    "\n",
    "    # 一批次的训练数据\n",
    "    l_sum, n = 0.0, 0\n",
    "    for X, y_true in iter_train:\n",
    "\n",
    "        # 转换\n",
    "        X = X.view(-1, num_features)\n",
    "\n",
    "        # 模型预测值\n",
    "        y_hat = net(X, w, b)\n",
    "\n",
    "        # 损失值\n",
    "        l = loss(y_hat, y_true).sum()\n",
    "\n",
    "        # 反向传播\n",
    "        l.backward()\n",
    "\n",
    "        # 随机梯度下降\n",
    "        sgd(w, b, lr=lr, batch_size=batch_size)\n",
    "\n",
    "        # 梯度置零\n",
    "        w.grad.data.zero_()\n",
    "        b.grad.data.zero_()\n",
    "\n",
    "        l_sum += l\n",
    "        n += y_true.shape[0]\n",
    "\n",
    "    print('epoch %d, loss %f' % (epoch + 1, l_sum/n))"
   ]
  },
  {
   "cell_type": "code",
   "execution_count": 6,
   "id": "victorian-timeline",
   "metadata": {
    "pycharm": {
     "name": "#%%\n"
    }
   },
   "outputs": [
    {
     "data": {
      "text/plain": [
       "0.8243"
      ]
     },
     "execution_count": 6,
     "metadata": {},
     "output_type": "execute_result"
    }
   ],
   "source": [
    "# 评估: 准确率\n",
    "iter_test = torch.utils.data.DataLoader(mnist_test, batch_size=batch_size, shuffle=False)\n",
    "\n",
    "acc_sum, n = 0.0, 0\n",
    "for X, y in iter_test:\n",
    "    X = X.view(-1, num_features)\n",
    "    y_hat: torch.Tensor = net(X, w, b)\n",
    "    y_hat = y_hat.argmax(dim=1)\n",
    "    acc_sum += (y_hat == y).float().sum().item()\n",
    "    n += y.shape[0]\n",
    "\n",
    "acc_avg = acc_sum / n\n",
    "acc_avg"
   ]
  },
  {
   "cell_type": "markdown",
   "id": "federal-retailer",
   "metadata": {
    "pycharm": {
     "name": "#%% md\n"
    }
   },
   "source": [
    "##### 利用torch.nn实现 softmax 回归在Fashion-MNIST数据集上进行训练和测试，<br>\n",
    "并从loss，训练集以及测试集上的准确率等多个角度对结果进行分析\n"
   ]
  },
  {
   "cell_type": "code",
   "execution_count": 27,
   "id": "continent-charlotte",
   "metadata": {
    "pycharm": {
     "name": "#%%\n"
    }
   },
   "outputs": [
    {
     "name": "stdout",
     "output_type": "stream",
     "text": [
      "epoch 1, loss 0.003076\n",
      "epoch 2, loss 0.002234\n",
      "epoch 3, loss 0.002054\n",
      "epoch 4, loss 0.001961\n",
      "epoch 5, loss 0.001899\n"
     ]
    }
   ],
   "source": [
    "class SoftmaxRegressionModel(torch.nn.Module):\n",
    "    \"\"\" SoftMax回归模型 \"\"\"\n",
    "    def __init__(self, num_features, num_classes):\n",
    "        super(SoftmaxRegressionModel, self).__init__()\n",
    "        self.num_features = num_features\n",
    "        self.linear = torch.nn.Linear(num_features, num_classes)\n",
    "        # 初始化\n",
    "        nn.init.normal_(self.linear.weight, mean=0, std=0.01)\n",
    "        nn.init.constant_(self.linear.bias, val=0)\n",
    "\n",
    "    def forward(self, X):\n",
    "        \"\"\"\n",
    "        :param X: [batch_size, num_features]\n",
    "        :return:  [batch_size, num_classes]\n",
    "        \"\"\"\n",
    "        # (,1,28,28) => [,784]\n",
    "        X = X.view(X.shape[0], -1)\n",
    "        # return torch.softmax(self.linear(X), dim=1)\n",
    "        return self.linear(X)\n",
    "\n",
    "class Flatten(nn.Module):\n",
    "    \"\"\" 官方实现 \"\"\"\n",
    "    __constants__ = ['start_dim', 'end_dim']\n",
    "\n",
    "    def __init__(self, start_dim=1, end_dim=-1):\n",
    "        super(Flatten, self).__init__()\n",
    "        self.start_dim = start_dim\n",
    "        self.end_dim = end_dim\n",
    "\n",
    "    def forward(self, input):\n",
    "        return input.flatten(self.start_dim, self.end_dim)\n",
    "\n",
    "def init_weights(m):\n",
    "    if type(m) == nn.Linear:\n",
    "        nn.init.normal_(m.weight, std=0.01)\n",
    "\n",
    "# 参数配置\n",
    "num_features = 28 * 28\n",
    "num_classes = 10\n",
    "batch_size = 256\n",
    "num_epochs = 5\n",
    "lr = 0.1\n",
    "\n",
    "net = SoftmaxRegressionModel(num_features, num_classes)\n",
    "# net = torch.nn.Sequential(Flatten(),\n",
    "#                           nn.Linear(num_features, num_classes))\n",
    "# net.apply(init_weights)\n",
    "\n",
    "loss = torch.nn.CrossEntropyLoss()\n",
    "optimizer = optim.SGD(net.parameters(), lr=lr)\n",
    "\n",
    "\n",
    "for epoch in range(num_epochs):\n",
    "\n",
    "    # 读取数据集\n",
    "    iter_train = torch.utils.data.DataLoader(mnist_train, batch_size=batch_size, shuffle=True)\n",
    "\n",
    "    # 一批次的训练数据\n",
    "    l_sum, n = 0.0, 0\n",
    "    for X, y_true in iter_train:\n",
    "\n",
    "        # 模型预测值\n",
    "        y_hat = net(X)\n",
    "\n",
    "        # 损失值\n",
    "        l = loss(y_hat, y_true)\n",
    "\n",
    "        # 反向传播\n",
    "        optimizer.zero_grad() #清空梯度\n",
    "        l.backward()\n",
    "        optimizer.step()\n",
    "\n",
    "\n",
    "        l_sum += l\n",
    "        n += y_true.shape[0]\n",
    "\n",
    "    print('epoch %d, loss %f' % (epoch + 1, l_sum/n))\n"
   ]
  },
  {
   "cell_type": "code",
   "execution_count": 26,
   "id": "gentle-steal",
   "metadata": {
    "pycharm": {
     "name": "#%%\n"
    }
   },
   "outputs": [
    {
     "data": {
      "text/plain": [
       "0.8181"
      ]
     },
     "execution_count": 26,
     "metadata": {},
     "output_type": "execute_result"
    }
   ],
   "source": [
    "# 评估: 准确率\n",
    "iter_test = torch.utils.data.DataLoader(mnist_test, batch_size=batch_size, shuffle=False)\n",
    "\n",
    "acc_sum, n = 0.0, 0\n",
    "for X, y in iter_test:\n",
    "    y_hat: torch.Tensor = net(X)\n",
    "    y_hat = y_hat.argmax(dim=1)\n",
    "    acc_sum += (y_hat == y).float().sum().item()\n",
    "    n += y.shape[0]\n",
    "\n",
    "acc_avg = acc_sum / n\n",
    "acc_avg"
   ]
  },
  {
   "cell_type": "code",
   "execution_count": null,
   "id": "fuzzy-technique",
   "metadata": {
    "pycharm": {
     "name": "#%%\n"
    }
   },
   "outputs": [],
   "source": []
  }
 ],
 "metadata": {
  "kernelspec": {
   "display_name": "Python 3",
   "language": "python",
   "name": "python3"
  },
  "language_info": {
   "codemirror_mode": {
    "name": "ipython",
    "version": 3
   },
   "file_extension": ".py",
   "mimetype": "text/x-python",
   "name": "python",
   "nbconvert_exporter": "python",
   "pygments_lexer": "ipython3",
   "version": "3.6.2"
  },
  "toc": {
   "base_numbering": 1,
   "nav_menu": {},
   "number_sections": true,
   "sideBar": true,
   "skip_h1_title": false,
   "title_cell": "Table of Contents",
   "title_sidebar": "Contents",
   "toc_cell": false,
   "toc_position": {
    "height": "calc(100% - 180px)",
    "left": "10px",
    "top": "150px",
    "width": "256px"
   },
   "toc_section_display": true,
   "toc_window_display": true
  }
 },
 "nbformat": 4,
 "nbformat_minor": 5
}
