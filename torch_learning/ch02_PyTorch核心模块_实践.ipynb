{
 "cells": [
  {
   "cell_type": "code",
   "id": "initial_id",
   "metadata": {
    "collapsed": true,
    "ExecuteTime": {
     "end_time": "2024-12-05T02:59:32.788766Z",
     "start_time": "2024-12-05T02:59:31.387335Z"
    }
   },
   "source": [
    "import torch\n",
    "import numpy as np"
   ],
   "outputs": [
    {
     "name": "stderr",
     "output_type": "stream",
     "text": [
      "[HAMI-core Msg(48810:139736112688000:libvgpu.c:836)]: Initializing.....\n"
     ]
    }
   ],
   "execution_count": 2
  },
  {
   "metadata": {
    "ExecuteTime": {
     "end_time": "2024-12-05T02:59:35.291409Z",
     "start_time": "2024-12-05T02:59:35.284135Z"
    }
   },
   "cell_type": "code",
   "source": "torch.__version__",
   "id": "a25661e88748016",
   "outputs": [
    {
     "data": {
      "text/plain": [
       "'2.4.0+cu121'"
      ]
     },
     "execution_count": 3,
     "metadata": {},
     "output_type": "execute_result"
    }
   ],
   "execution_count": 3
  },
  {
   "metadata": {},
   "cell_type": "markdown",
   "source": [
    "### 基本数据处理与计算操作\n",
    "#### 创建Tensor"
   ],
   "id": "8e7335dd4f25c2a0"
  },
  {
   "metadata": {
    "ExecuteTime": {
     "end_time": "2024-12-05T03:15:35.403637Z",
     "start_time": "2024-12-05T03:15:35.381789Z"
    }
   },
   "cell_type": "code",
   "source": [
    "# 创建一个2x3的未初始化的Tensor\n",
    "x1 = torch.empty(2, 3)\n",
    "# 创建一个2x3的随机初始化的Tensor\n",
    "x2 = torch.rand(2,3)\n",
    "# 创建一个2x3的long型全0的Tensor\n",
    "x3 = torch.zeros(2, 3, dtype=torch.long)\n",
    "# 为每一个元素以给定的mean和std用高斯分布生成随机数\n",
    "x4 = torch.normal(mean=0.5, std=torch.arange(1., 6.))\n",
    "# randn 服从N(0，1)的正态分布\n",
    "x5 = torch.randn(2, 3)\n",
    "\n",
    "x1, x2, x3, x4, x5"
   ],
   "id": "f98c4fe2f9122de7",
   "outputs": [
    {
     "data": {
      "text/plain": [
       "(tensor([[1.0825e-34, 0.0000e+00, 0.0000e+00],\n",
       "         [1.4013e-45, 0.0000e+00, 0.0000e+00]]),\n",
       " tensor([[0.9814, 0.0874, 0.5718],\n",
       "         [0.6293, 0.1877, 0.5226]]),\n",
       " tensor([[0, 0, 0],\n",
       "         [0, 0, 0]]),\n",
       " tensor([ 1.5466, -3.7387, -2.4466,  3.9320,  0.3221]),\n",
       " tensor([[-1.7507, -0.7708, -0.1977],\n",
       "         [ 1.7947,  2.4549, -0.1717]]))"
      ]
     },
     "execution_count": 28,
     "metadata": {},
     "output_type": "execute_result"
    }
   ],
   "execution_count": 28
  },
  {
   "metadata": {
    "ExecuteTime": {
     "end_time": "2024-12-05T05:50:40.808737Z",
     "start_time": "2024-12-05T05:50:40.797425Z"
    }
   },
   "cell_type": "code",
   "source": [
    "# 根据不同数据类型创建\n",
    "x1 = torch.tensor([[5,5,3], [2,2,5]])\n",
    "x2 = torch.tensor(np.array([[1, 2, 3], [4, 5, 6]]))\n",
    "x3 = torch.from_numpy(np.array([[1, 2, 3], [4, 5, 6]]))\n",
    "x1, x2, x3"
   ],
   "id": "b88af3712e08564",
   "outputs": [
    {
     "data": {
      "text/plain": [
       "(tensor([[5, 5, 3],\n",
       "         [2, 2, 5]]),\n",
       " tensor([[1, 2, 3],\n",
       "         [4, 5, 6]]),\n",
       " tensor([[1, 2, 3],\n",
       "         [4, 5, 6]]))"
      ]
     },
     "execution_count": 32,
     "metadata": {},
     "output_type": "execute_result"
    }
   ],
   "execution_count": 32
  },
  {
   "metadata": {
    "ExecuteTime": {
     "end_time": "2024-12-05T05:52:26.204311Z",
     "start_time": "2024-12-05T05:52:26.185551Z"
    }
   },
   "cell_type": "code",
   "source": [
    "x = torch.tensor([[1,2,3], [4,5,6]])\n",
    "# 返回的tensor默认具有相同的torch.dtype和torch.device \n",
    "x1 = x.new_ones(2, 3, dtype=torch.float64)\n",
    "# 指定新的数据类型\n",
    "x2 = torch.randn_like(x, dtype=torch.float, device='cuda')\n",
    "x1, x2"
   ],
   "id": "efb85eb5dc01eb70",
   "outputs": [
    {
     "data": {
      "text/plain": [
       "(tensor([[1., 1., 1.],\n",
       "         [1., 1., 1.]], dtype=torch.float64),\n",
       " tensor([[ 1.2797, -0.0880,  1.2151],\n",
       "         [ 1.1600, -0.2267,  0.4583]], device='cuda:0'))"
      ]
     },
     "execution_count": 35,
     "metadata": {},
     "output_type": "execute_result"
    }
   ],
   "execution_count": 35
  },
  {
   "metadata": {},
   "cell_type": "markdown",
   "source": "#### 操作张量",
   "id": "e0b51474809fc04c"
  },
  {
   "metadata": {},
   "cell_type": "markdown",
   "source": "##### 算术操作",
   "id": "404c8168a71d8e79"
  },
  {
   "metadata": {
    "ExecuteTime": {
     "end_time": "2024-12-05T06:04:43.481923Z",
     "start_time": "2024-12-05T06:04:43.468071Z"
    }
   },
   "cell_type": "code",
   "source": [
    "x = torch.ones(2, 3) \n",
    "y = torch.eye(2, 3)\n",
    "# 加法形式1\n",
    "s1 = x + y\n",
    "# 加法形式2\n",
    "s2 = torch.add(x, y)\n",
    "# 加法形式3，inplace(原地操作)，原值修改\n",
    "s3 = y.add_(x)\n",
    "\n",
    "x, y, s1, s2, s3, y"
   ],
   "id": "c38d174958713b62",
   "outputs": [
    {
     "data": {
      "text/plain": [
       "(tensor([[1., 1., 1.],\n",
       "         [1., 1., 1.]]),\n",
       " tensor([[2., 1., 1.],\n",
       "         [1., 2., 1.]]),\n",
       " tensor([[2., 1., 1.],\n",
       "         [1., 2., 1.]]),\n",
       " tensor([[2., 1., 1.],\n",
       "         [1., 2., 1.]]),\n",
       " tensor([[2., 1., 1.],\n",
       "         [1., 2., 1.]]),\n",
       " tensor([[2., 1., 1.],\n",
       "         [1., 2., 1.]]))"
      ]
     },
     "execution_count": 43,
     "metadata": {},
     "output_type": "execute_result"
    }
   ],
   "execution_count": 43
  },
  {
   "metadata": {},
   "cell_type": "markdown",
   "source": [
    "##### 索引\n",
    "索引出来的结果与原数据`共享内存`，也即修改一个，另一个会跟着修改。"
   ],
   "id": "e9e8ea08923b768c"
  },
  {
   "metadata": {
    "ExecuteTime": {
     "end_time": "2024-12-05T06:10:21.218064Z",
     "start_time": "2024-12-05T06:10:21.203136Z"
    }
   },
   "cell_type": "code",
   "source": [
    "x = torch.ones(2, 3, device='cuda') \n",
    "y = x[0, :]\n",
    "y += 1\n",
    "\n",
    "x, y, x[0, :]"
   ],
   "id": "952e713dea06fdb",
   "outputs": [
    {
     "data": {
      "text/plain": [
       "(tensor([[2., 2., 2.],\n",
       "         [1., 1., 1.]], device='cuda:0'),\n",
       " tensor([2., 2., 2.], device='cuda:0'),\n",
       " tensor([2., 2., 2.], device='cuda:0'))"
      ]
     },
     "execution_count": 45,
     "metadata": {},
     "output_type": "execute_result"
    }
   ],
   "execution_count": 45
  },
  {
   "metadata": {},
   "cell_type": "markdown",
   "source": [
    "##### 切片 index_select\n",
    "沿着指定维度对输入进行切片，取index中指定的相应项(index 为一个 LongTensor)，然后返回到一个新的张量， 返回的张量与原始张量 Tensor 有相同的维度(在指定轴上)。\n",
    "\n",
    "注意： `返回的张量不与原始张量共享内存空间`。<br>\n",
    "\n",
    "参数:<br>\n",
    "input (Tensor)         – 输入张量<br>\n",
    "dim (int)              – 索引的轴<br>\n",
    "index (LongTensor)     – 包含索引下标的一维张量<br>\n",
    "out (Tensor, optional) – 目标张量<br>"
   ],
   "id": "4c83e29022cd4abd"
  },
  {
   "metadata": {
    "ExecuteTime": {
     "end_time": "2024-12-05T06:28:21.135491Z",
     "start_time": "2024-12-05T06:28:21.119048Z"
    }
   },
   "cell_type": "code",
   "source": [
    "x = torch.randn(3, 4)\n",
    "indices = torch.LongTensor([0, 2])\n",
    "y = torch.index_select(x, 0, indices)\n",
    "x, indices, y"
   ],
   "id": "be273576e54333f9",
   "outputs": [
    {
     "data": {
      "text/plain": [
       "(tensor([[ 0.1912,  0.1199, -0.0856, -1.8215],\n",
       "         [ 0.2932,  0.9630,  0.3461, -0.7105],\n",
       "         [-1.2408, -1.6029,  0.8402,  0.3389]]),\n",
       " tensor([0, 2]),\n",
       " tensor([[ 0.1912,  0.1199, -0.0856, -1.8215],\n",
       "         [-1.2408, -1.6029,  0.8402,  0.3389]]))"
      ]
     },
     "execution_count": 46,
     "metadata": {},
     "output_type": "execute_result"
    }
   ],
   "execution_count": 46
  },
  {
   "metadata": {},
   "cell_type": "markdown",
   "source": [
    "##### 改变形状 view/reshape\n",
    "1. `view()`<br>\n",
    "注意view()**返回的新Tensor与源Tensor虽然可能有不同的size**，但`共享data`。<br>\n",
    "即更改其中的一个，另外一个也会跟着改变。(顾名思义，view仅仅是改变了对这个张量的 观察角度，内部数据并未改变)\n",
    "2. `reshape()` 和 `clone()`<br> \n",
    "Pytorch还提供了一个 reshape() 方法可以改变形状，但是此函数并不能保证返回的是其拷贝，所以不推荐使用。<br> \n",
    "我们推荐先用 clone() 创造一个副本然后再使用view()。"
   ],
   "id": "638e71766e4e379d"
  },
  {
   "metadata": {
    "ExecuteTime": {
     "end_time": "2024-12-05T06:37:26.690979Z",
     "start_time": "2024-12-05T06:37:26.674120Z"
    }
   },
   "cell_type": "code",
   "source": [
    "x = torch.ones(2, 4)\n",
    "# 一个tensor必须是连续的contiguous()才能被查看。\n",
    "# 一开始不加contiguous()，报 “view size is not compatible ... ” 错误\n",
    "y1 = x.view(8)\n",
    "y2 = x.view(-1, 8) # -1所指的维度可以根据其他维度的值推出来\n",
    "\n",
    "x, y1, y2, x.size(), y1.size(), y2.size()"
   ],
   "id": "228a589372df84e0",
   "outputs": [
    {
     "data": {
      "text/plain": [
       "(tensor([[1., 1., 1., 1.],\n",
       "         [1., 1., 1., 1.]]),\n",
       " tensor([1., 1., 1., 1., 1., 1., 1., 1.]),\n",
       " tensor([[1., 1., 1., 1., 1., 1., 1., 1.]]),\n",
       " torch.Size([2, 4]),\n",
       " torch.Size([8]),\n",
       " torch.Size([1, 8]))"
      ]
     },
     "execution_count": 51,
     "metadata": {},
     "output_type": "execute_result"
    }
   ],
   "execution_count": 51
  },
  {
   "metadata": {
    "ExecuteTime": {
     "end_time": "2024-12-05T06:37:27.557078Z",
     "start_time": "2024-12-05T06:37:27.548856Z"
    }
   },
   "cell_type": "code",
   "source": [
    "x += 1\n",
    "print(x)\n",
    "print(y1) # 也加了1"
   ],
   "id": "ff5073877939dce0",
   "outputs": [
    {
     "name": "stdout",
     "output_type": "stream",
     "text": [
      "tensor([[2., 2., 2., 2.],\n",
      "        [2., 2., 2., 2.]])\n",
      "tensor([2., 2., 2., 2., 2., 2., 2., 2.])\n"
     ]
    }
   ],
   "execution_count": 52
  },
  {
   "metadata": {
    "ExecuteTime": {
     "end_time": "2024-12-05T06:40:50.680881Z",
     "start_time": "2024-12-05T06:40:50.665059Z"
    }
   },
   "cell_type": "code",
   "source": [
    "# torch.view()会改变原始张量，但是很多情况下，我们希望原始张量和变换后的张量互相不影响。为为了使创建的张量和原始张量不共享内存，我们需要使用第二种方法torch.reshape()， 同样可以改变张量的形状，但是此函数并不能保证返回的是其拷贝值，所以官方不推荐使用。推荐的方法是我们先用 `clone()` 创造一个张量副本然后再使用 `torch.view()`进行函数维度变换。<br>\n",
    "# 注：使用 clone() 还有一个好处是会被记录在计算图中，即梯度回传到副本时也会传到源 Tensor 。 \n",
    "\n",
    "x1 = x.clone()\n",
    "y3 = x.view(-1)\n",
    "x1 += 1\n",
    "\n",
    "x1, y3"
   ],
   "id": "2966e0478d013f3d",
   "outputs": [
    {
     "data": {
      "text/plain": [
       "(tensor([[3., 3., 3., 3.],\n",
       "         [3., 3., 3., 3.]]),\n",
       " tensor([2., 2., 2., 2., 2., 2., 2., 2.]))"
      ]
     },
     "execution_count": 53,
     "metadata": {},
     "output_type": "execute_result"
    }
   ],
   "execution_count": 53
  },
  {
   "metadata": {},
   "cell_type": "markdown",
   "source": [
    "##### gather\n",
    "`torch.gather(input, dim, index, out=None)`<br>\n",
    "官方定义：沿给定轴dim，将输入索引张量index指定位置的值进行聚合。<br>\n",
    "通俗理解：给定轴dim，在input中，根据index指定的下标，选择元素重组成一个新的tensor，最后输出的out与index的size是一样的。<br>\n",
    "\n",
    "对一个3维张量，输出可以定义为<br>\n",
    "\n",
    "```\n",
    "out[i][j][k] = tensor[index[i][j][k]][j][k]] # dim=0\n",
    "out[i][j][k] = tensor[i][index[i][j][k]][k]] # dim=1\n",
    "out[i][j][k] = tensor[i][j][index[i][j][k]]] # dim=3\n",
    "```"
   ],
   "id": "4c4092d912b18775"
  },
  {
   "metadata": {
    "ExecuteTime": {
     "end_time": "2024-12-05T06:44:34.623357Z",
     "start_time": "2024-12-05T06:44:34.607203Z"
    }
   },
   "cell_type": "code",
   "source": [
    "_input = torch.tensor([[0.9, 0, 0], [0, 0.6, 0],[0, 0.7, 0]])\n",
    "index = torch.tensor([0, 1, 1])\n",
    "_input, index, index.view(-1, 1)"
   ],
   "id": "c461832c1b04d76f",
   "outputs": [
    {
     "data": {
      "text/plain": [
       "(tensor([[0.9000, 0.0000, 0.0000],\n",
       "         [0.0000, 0.6000, 0.0000],\n",
       "         [0.0000, 0.7000, 0.0000]]),\n",
       " tensor([0, 1, 1]),\n",
       " tensor([[0],\n",
       "         [1],\n",
       "         [1]]))"
      ]
     },
     "execution_count": 56,
     "metadata": {},
     "output_type": "execute_result"
    }
   ],
   "execution_count": 56
  },
  {
   "metadata": {},
   "cell_type": "code",
   "outputs": [
    {
     "data": {
      "text/plain": "tensor([[0.9000],\n        [0.6000],\n        [0.7000]])"
     },
     "execution_count": 30,
     "metadata": {},
     "output_type": "execute_result"
    }
   ],
   "execution_count": 30,
   "source": [
    "_input.gather(dim=1, index=index.view(-1, 1))\n",
    "# dim=1，表示的是在第二维度上操作。\n",
    "# 在index中，[0]表示第一行对应元素的下标，即[0.9]\n",
    "#           [1]表示第二行对应元素的下标，即[0.6]\n",
    "#           [1]表示第三行对应元素的下标，即[0.7]\n"
   ],
   "id": "2dd910f8efdeb599"
  },
  {
   "metadata": {},
   "cell_type": "markdown",
   "source": [
    "#### 广播机制\n",
    "当我们对两个形状不同的Tensor按元素运算时，可能会触发`广播(broadcasting)机制`。 <br>\n",
    "先适当复制元素使这两个Tensor形状相同后再按元素运算。"
   ],
   "id": "70802a520b875fca"
  },
  {
   "metadata": {
    "ExecuteTime": {
     "end_time": "2024-12-05T06:51:29.369464Z",
     "start_time": "2024-12-05T06:51:29.354588Z"
    }
   },
   "cell_type": "code",
   "source": [
    "# x 中第一行的2个 元素被广播(复制)到了第二行和第三行\n",
    "# y 中第一列的3个元素被广播(复制)到 了第二列\n",
    "x = torch.arange(1, 3).view(1, 2)\n",
    "y = torch.arange(1, 4).view(3, 1)\n",
    "x, y, x+y"
   ],
   "id": "b84ba14b9b1fd304",
   "outputs": [
    {
     "data": {
      "text/plain": [
       "(tensor([[1, 2]]),\n",
       " tensor([[1],\n",
       "         [2],\n",
       "         [3]]),\n",
       " tensor([[2, 3],\n",
       "         [3, 4],\n",
       "         [4, 5]]))"
      ]
     },
     "execution_count": 57,
     "metadata": {},
     "output_type": "execute_result"
    }
   ],
   "execution_count": 57
  },
  {
   "metadata": {},
   "cell_type": "markdown",
   "source": [
    "#### Tensor和NumPy相互转换\n",
    "+ `numpy()`和`from_numpy()` <br>\n",
    "这两个函数所产生的的Tensor和NumPy中的数组共享相同的内存(所以他们之间的转换很快)，改变其中一个时另一个也会改变!\n",
    "+ `torch.tensor()` <br>\n",
    "进行**数据拷贝**，所以返回的Tensor和原来 的数据不再共享内存。"
   ],
   "id": "a074be98b2d79f77"
  },
  {
   "metadata": {
    "ExecuteTime": {
     "end_time": "2024-12-05T06:57:00.723692Z",
     "start_time": "2024-12-05T06:57:00.708576Z"
    }
   },
   "cell_type": "code",
   "source": [
    "# Tensor转NumPy数组\n",
    "x = torch.ones(3)\n",
    "y = x.numpy()\n",
    "x += 1\n",
    "y += 1\n",
    "print(x, y)\n",
    "\n",
    "# NumPy数组转 Tensor\n",
    "x = np.ones(3)\n",
    "y = torch.from_numpy(x)\n",
    "x += 1\n",
    "y += 1\n",
    "print(x, y)"
   ],
   "id": "43545e1b02a013db",
   "outputs": [
    {
     "name": "stdout",
     "output_type": "stream",
     "text": [
      "tensor([3., 3., 3.]) [3. 3. 3.]\n",
      "[3. 3. 3.] tensor([3., 3., 3.], dtype=torch.float64)\n"
     ]
    }
   ],
   "execution_count": 63
  },
  {
   "metadata": {
    "ExecuteTime": {
     "end_time": "2024-12-05T06:58:12.393425Z",
     "start_time": "2024-12-05T06:58:12.380853Z"
    }
   },
   "cell_type": "code",
   "source": [
    "# 使用torch.tensor()将NumPy数组转换成Tensor(不再共享内存)\n",
    "x = np.ones(3)\n",
    "y = torch.tensor(x)\n",
    "x += 1\n",
    "print(x, y)"
   ],
   "id": "d70a731be351d2d2",
   "outputs": [
    {
     "name": "stdout",
     "output_type": "stream",
     "text": [
      "[2. 2. 2.] tensor([1., 1., 1.], dtype=torch.float64)\n"
     ]
    }
   ],
   "execution_count": 65
  },
  {
   "metadata": {},
   "cell_type": "markdown",
   "source": [
    "#### 自动求梯度（Autograd）\n",
    "torch.Tensor 是这个包的核心类。如果设置它的属性 `.requires_grad` 为 True，那么它将会追踪对于该张量的所有操作。\n",
    "当完成计算后可以通过调用 `.backward()`，来自动计算所有的梯度。这个张量的所有梯度将会自动累加到`.grad`属性。<br>\n",
    "\n",
    "如果不想要被继续追踪，可以调用`.detach()`将其从追踪记录中分离出来，这样就可以防止将来的计算被追踪。\n",
    "此外，还可以用`with torch.no_grad()`将不想被追踪的操作代码块包裹起来，这种方法在评估模型的时候很常用，因为在评估模型时，我们并不需要计算 可训练参数(requires_grad=True)的梯度。<br>\n",
    "\n",
    "Tensor和Function互相结合就可以构建一个记录有整个计算过程的**有向无环图(DAG)**。\n",
    "每个Tensor都有一个`.grad_fn`属性，用来记录创建张量时所用到的运算，在链式求导法则中会使用到，默认是None。<br>\n",
    "\n",
    "+ 自动求导机制通过有向无环图（directed acyclic graph ，DAG）实现\n",
    "+ 在DAG中，记录数据（对应tensor.data）以及操作（对应tensor.grad_fn）\n",
    "+ 操作在pytorch中统称为`Function`，如加法、减法、乘法、ReLU、conv、Pooling等"
   ],
   "id": "24e03c74202568ac"
  },
  {
   "metadata": {
    "ExecuteTime": {
     "end_time": "2024-12-05T12:06:21.296623Z",
     "start_time": "2024-12-05T12:06:21.285971Z"
    }
   },
   "cell_type": "code",
   "source": [
    "# 标量求梯度\n",
    "w = torch.tensor([1.], requires_grad=True)\n",
    "x = torch.tensor([2.], requires_grad=True)\n",
    "a = torch.add(w, x)\n",
    "b = torch.add(w, 1)\n",
    "y = torch.mul(a, b)\n",
    "\n",
    " # x是直接创建的，所以它没有grad_fn\n",
    "print(x.grad_fn)\n",
    "print(a.grad_fn)\n",
    "\n",
    "y.backward()\n",
    "print(w.grad)"
   ],
   "id": "b0554114476ba53b",
   "outputs": [
    {
     "name": "stdout",
     "output_type": "stream",
     "text": [
      "None\n",
      "<AddBackward0 object at 0x7f14f9b04c10>\n",
      "tensor([5.])\n"
     ]
    }
   ],
   "execution_count": 85
  },
  {
   "metadata": {
    "ExecuteTime": {
     "end_time": "2024-12-05T12:06:23.778396Z",
     "start_time": "2024-12-05T12:06:23.767866Z"
    }
   },
   "cell_type": "code",
   "source": [
    "# 注意grad是累加的\n",
    "y2 = w.sum()\n",
    "y2.backward()      # 梯度未清零，累加梯度\n",
    "print(w.grad)\n",
    "\n",
    "y3 = w.sum()\n",
    "w.grad.data.zero_()\n",
    "y3.backward()      # 梯度清零后，x的梯度为1\n",
    "print(w.grad)"
   ],
   "id": "7d8696f460361684",
   "outputs": [
    {
     "name": "stdout",
     "output_type": "stream",
     "text": [
      "tensor([6.])\n",
      "tensor([1.])\n"
     ]
    }
   ],
   "execution_count": 86
  },
  {
   "metadata": {
    "ExecuteTime": {
     "end_time": "2024-12-05T12:15:49.144354Z",
     "start_time": "2024-12-05T12:15:49.124765Z"
    }
   },
   "cell_type": "code",
   "source": [
    "from torch.autograd import Function\n",
    "\n",
    "class Exp(Function):                    # 此层计算e^x\n",
    "    @staticmethod\n",
    "    def forward(ctx, i):                # 模型前向\n",
    "        result = i.exp()\n",
    "        ctx.save_for_backward(result)   # 保存所需内容，以备backward时使用，所需的结果会被保存在saved_tensors元组中；\n",
    "                                        # 此处仅能保存tensor类型变量，若其余类型变量（Int等），可直接赋予ctx作为成员变量，也可以达到保存效果\n",
    "        return result\n",
    "    @staticmethod\n",
    "    def backward(ctx, grad_output):     # 模型梯度反传\n",
    "        result, = ctx.saved_tensors     # 取出forward中保存的result\n",
    "        return grad_output * result     # 计算梯度并返回\n",
    "\n",
    "\n",
    "# 尝试使用\n",
    "x = torch.tensor([1.], requires_grad=True)  # 需要设置tensor的requires_grad属性为True，才会进行梯度反传\n",
    "ret = Exp.apply(x)                          # 使用apply方法调用自定义autograd function\n",
    "print(ret)                                  # tensor([2.7183], grad_fn=<ExpBackward>)\n",
    "ret.backward()                              # 反传梯度\n",
    "print(x.grad)                               # tensor([2.7183])"
   ],
   "id": "50ea15fb251ebb36",
   "outputs": [
    {
     "name": "stdout",
     "output_type": "stream",
     "text": [
      "tensor([2.7183], grad_fn=<ExpBackward>)\n",
      "tensor([2.7183])\n"
     ]
    }
   ],
   "execution_count": 87
  },
  {
   "metadata": {},
   "cell_type": "code",
   "outputs": [],
   "execution_count": null,
   "source": "",
   "id": "99fc2bd8c9448ead"
  }
 ],
 "metadata": {
  "kernelspec": {
   "display_name": "Python 3",
   "language": "python",
   "name": "python3"
  },
  "language_info": {
   "codemirror_mode": {
    "name": "ipython",
    "version": 2
   },
   "file_extension": ".py",
   "mimetype": "text/x-python",
   "name": "python",
   "nbconvert_exporter": "python",
   "pygments_lexer": "ipython2",
   "version": "2.7.6"
  }
 },
 "nbformat": 4,
 "nbformat_minor": 5
}
