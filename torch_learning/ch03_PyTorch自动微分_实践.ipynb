{
 "cells": [
  {
   "cell_type": "code",
   "id": "initial_id",
   "metadata": {
    "collapsed": true,
    "ExecuteTime": {
     "end_time": "2024-12-14T02:41:33.714561Z",
     "start_time": "2024-12-14T02:41:32.118004Z"
    }
   },
   "source": [
    "import torch\n",
    "import numpy as np"
   ],
   "outputs": [
    {
     "name": "stderr",
     "output_type": "stream",
     "text": [
      "[HAMI-core Msg(51615:139915000765312:libvgpu.c:836)]: Initializing.....\n"
     ]
    }
   ],
   "execution_count": 1
  },
  {
   "metadata": {
    "ExecuteTime": {
     "end_time": "2024-12-05T02:59:35.291409Z",
     "start_time": "2024-12-05T02:59:35.284135Z"
    }
   },
   "cell_type": "code",
   "source": "torch.__version__",
   "id": "a25661e88748016",
   "outputs": [
    {
     "data": {
      "text/plain": [
       "'2.4.0+cu121'"
      ]
     },
     "execution_count": 3,
     "metadata": {},
     "output_type": "execute_result"
    }
   ],
   "execution_count": 3
  },
  {
   "metadata": {},
   "cell_type": "markdown",
   "source": [
    "#### 自动求梯度（Autograd）\n",
    "torch.Tensor 是这个包的核心类。如果设置它的属性 `.requires_grad` 为 True，那么它将会追踪对于该张量的所有操作。\n",
    "当完成计算后可以通过调用 `.backward()`，来自动计算所有的梯度。这个张量的所有梯度将会自动累加到`.grad`属性。<br>\n",
    "\n",
    "如果不想要被继续追踪，可以调用`.detach()`将其从追踪记录中分离出来，这样就可以防止将来的计算被追踪。\n",
    "此外，还可以用`with torch.no_grad()`将不想被追踪的操作代码块包裹起来，这种方法在评估模型的时候很常用，因为在评估模型时，我们并不需要计算 可训练参数(requires_grad=True)的梯度。<br>\n",
    "\n",
    "Tensor和Function互相结合就可以构建一个记录有整个计算过程的**有向无环图(DAG)**。\n",
    "每个Tensor都有一个`.grad_fn`属性，用来记录创建张量时所用到的运算，在链式求导法则中会使用到，默认是None。<br>\n",
    "\n",
    "+ 自动求导机制通过有向无环图（directed acyclic graph ，DAG）实现\n",
    "+ 在DAG中，记录数据（对应tensor.data）以及操作（对应tensor.grad_fn）\n",
    "+ 操作在pytorch中统称为`Function`，如加法、减法、乘法、ReLU、conv、Pooling等"
   ],
   "id": "24e03c74202568ac"
  },
  {
   "metadata": {
    "ExecuteTime": {
     "end_time": "2024-12-05T12:06:21.296623Z",
     "start_time": "2024-12-05T12:06:21.285971Z"
    }
   },
   "cell_type": "code",
   "source": [
    "# 标量求梯度\n",
    "w = torch.tensor([1.], requires_grad=True)\n",
    "x = torch.tensor([2.], requires_grad=True)\n",
    "a = torch.add(w, x)\n",
    "b = torch.add(w, 1)\n",
    "y = torch.mul(a, b)\n",
    "\n",
    " # x是直接创建的，所以它没有grad_fn\n",
    "print(x.grad_fn)\n",
    "print(a.grad_fn)\n",
    "\n",
    "y.backward()\n",
    "print(w.grad)"
   ],
   "id": "b0554114476ba53b",
   "outputs": [
    {
     "name": "stdout",
     "output_type": "stream",
     "text": [
      "None\n",
      "<AddBackward0 object at 0x7f14f9b04c10>\n",
      "tensor([5.])\n"
     ]
    }
   ],
   "execution_count": 85
  },
  {
   "metadata": {
    "ExecuteTime": {
     "end_time": "2024-12-05T12:06:23.778396Z",
     "start_time": "2024-12-05T12:06:23.767866Z"
    }
   },
   "cell_type": "code",
   "source": [
    "# 注意grad是累加的\n",
    "y2 = w.sum()\n",
    "y2.backward()      # 梯度未清零，累加梯度\n",
    "print(w.grad)\n",
    "\n",
    "y3 = w.sum()\n",
    "w.grad.data.zero_()\n",
    "y3.backward()      # 梯度清零后，x的梯度为1\n",
    "print(w.grad)"
   ],
   "id": "7d8696f460361684",
   "outputs": [
    {
     "name": "stdout",
     "output_type": "stream",
     "text": [
      "tensor([6.])\n",
      "tensor([1.])\n"
     ]
    }
   ],
   "execution_count": 86
  },
  {
   "metadata": {
    "ExecuteTime": {
     "end_time": "2024-12-05T12:15:49.144354Z",
     "start_time": "2024-12-05T12:15:49.124765Z"
    }
   },
   "cell_type": "code",
   "source": [
    "from torch.autograd import Function\n",
    "\n",
    "class Exp(Function):                    # 此层计算e^x\n",
    "    @staticmethod\n",
    "    def forward(ctx, i):                # 模型前向\n",
    "        result = i.exp()\n",
    "        ctx.save_for_backward(result)   # 保存所需内容，以备backward时使用，所需的结果会被保存在saved_tensors元组中；\n",
    "                                        # 此处仅能保存tensor类型变量，若其余类型变量（Int等），可直接赋予ctx作为成员变量，也可以达到保存效果\n",
    "        return result\n",
    "    @staticmethod\n",
    "    def backward(ctx, grad_output):     # 模型梯度反传\n",
    "        result, = ctx.saved_tensors     # 取出forward中保存的result\n",
    "        return grad_output * result     # 计算梯度并返回\n",
    "\n",
    "\n",
    "# 尝试使用\n",
    "x = torch.tensor([1.], requires_grad=True)  # 需要设置tensor的requires_grad属性为True，才会进行梯度反传\n",
    "ret = Exp.apply(x)                          # 使用apply方法调用自定义autograd function\n",
    "print(ret)                                  # tensor([2.7183], grad_fn=<ExpBackward>)\n",
    "ret.backward()                              # 反传梯度\n",
    "print(x.grad)                               # tensor([2.7183])"
   ],
   "id": "50ea15fb251ebb36",
   "outputs": [
    {
     "name": "stdout",
     "output_type": "stream",
     "text": [
      "tensor([2.7183], grad_fn=<ExpBackward>)\n",
      "tensor([2.7183])\n"
     ]
    }
   ],
   "execution_count": 87
  },
  {
   "metadata": {},
   "cell_type": "code",
   "outputs": [],
   "execution_count": null,
   "source": "",
   "id": "99fc2bd8c9448ead"
  }
 ],
 "metadata": {
  "kernelspec": {
   "display_name": "Python 3",
   "language": "python",
   "name": "python3"
  },
  "language_info": {
   "codemirror_mode": {
    "name": "ipython",
    "version": 2
   },
   "file_extension": ".py",
   "mimetype": "text/x-python",
   "name": "python",
   "nbconvert_exporter": "python",
   "pygments_lexer": "ipython2",
   "version": "2.7.6"
  }
 },
 "nbformat": 4,
 "nbformat_minor": 5
}
