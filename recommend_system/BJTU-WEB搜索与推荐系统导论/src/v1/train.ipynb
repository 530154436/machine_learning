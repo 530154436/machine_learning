{
 "cells": [
  {
   "cell_type": "code",
   "execution_count": 11,
   "outputs": [
    {
     "name": "stdout",
     "output_type": "stream",
     "text": [
      "/Users/chubin.zheng/Documents/PyCharmProjects/learning/programing/bjtu_programming/search_rs/data\n"
     ]
    }
   ],
   "source": [
    "import pandas as pd\n",
    "\n",
    "from sklearn.preprocessing import LabelEncoder\n",
    "from bjtu_programming.search_rs import DATA_DIR\n",
    "from bjtu_programming.search_rs.feature_engineering.time import DateUtil, DateConverter\n",
    "from bjtu_programming.search_rs.models.xgb_lightgbm import XgbLightGBWrapper\n",
    "from bjtu_programming.search_rs.utils.pd_util import PandasUtil"
   ],
   "metadata": {
    "collapsed": false,
    "pycharm": {
     "name": "#%%\n"
    }
   }
  },
  {
   "cell_type": "code",
   "execution_count": 12,
   "outputs": [
    {
     "name": "stdout",
     "output_type": "stream",
     "text": [
      "1\n",
      "5\n",
      "(Delayed('int-f6ebebd5-3a18-464e-b783-348c191ba78d'), 10)\n"
     ]
    },
    {
     "data": {
      "text/plain": "      user_id    item_id                  ctx_time_expose  ctx_net_env  \\\n0  1000014754  463852707 2021-06-28 09:29:16.147000+08:00            5   \n1  1000014754  463067100 2021-06-27 09:25:47.178000+08:00            5   \n2  1000014754  463625484 2021-06-27 10:54:06.340000+08:00            5   \n3  1000014754  463625484 2021-06-27 10:54:06.340000+08:00            5   \n4  1000014754  463420121 2021-06-26 15:21:07.329000+08:00            2   \n\n   u_cnt_flush  ctx_show_pos  is_click  cnt_read_duration  \\\n0            0            13         1                 80   \n1            0            13         0                  0   \n2            0            12         1                268   \n3            0            12         1                 57   \n4            0            14         0                  0   \n\n   ctx_time_expose_day_of_week  ctx_time_expose_hour_bucket  \n0                            0                            2  \n1                            6                            2  \n2                            6                            2  \n3                            6                            2  \n4                            5                            2  ",
      "text/html": "<div>\n<style scoped>\n    .dataframe tbody tr th:only-of-type {\n        vertical-align: middle;\n    }\n\n    .dataframe tbody tr th {\n        vertical-align: top;\n    }\n\n    .dataframe thead th {\n        text-align: right;\n    }\n</style>\n<table border=\"1\" class=\"dataframe\">\n  <thead>\n    <tr style=\"text-align: right;\">\n      <th></th>\n      <th>user_id</th>\n      <th>item_id</th>\n      <th>ctx_time_expose</th>\n      <th>ctx_net_env</th>\n      <th>u_cnt_flush</th>\n      <th>ctx_show_pos</th>\n      <th>is_click</th>\n      <th>cnt_read_duration</th>\n      <th>ctx_time_expose_day_of_week</th>\n      <th>ctx_time_expose_hour_bucket</th>\n    </tr>\n  </thead>\n  <tbody>\n    <tr>\n      <th>0</th>\n      <td>1000014754</td>\n      <td>463852707</td>\n      <td>2021-06-28 09:29:16.147000+08:00</td>\n      <td>5</td>\n      <td>0</td>\n      <td>13</td>\n      <td>1</td>\n      <td>80</td>\n      <td>0</td>\n      <td>2</td>\n    </tr>\n    <tr>\n      <th>1</th>\n      <td>1000014754</td>\n      <td>463067100</td>\n      <td>2021-06-27 09:25:47.178000+08:00</td>\n      <td>5</td>\n      <td>0</td>\n      <td>13</td>\n      <td>0</td>\n      <td>0</td>\n      <td>6</td>\n      <td>2</td>\n    </tr>\n    <tr>\n      <th>2</th>\n      <td>1000014754</td>\n      <td>463625484</td>\n      <td>2021-06-27 10:54:06.340000+08:00</td>\n      <td>5</td>\n      <td>0</td>\n      <td>12</td>\n      <td>1</td>\n      <td>268</td>\n      <td>6</td>\n      <td>2</td>\n    </tr>\n    <tr>\n      <th>3</th>\n      <td>1000014754</td>\n      <td>463625484</td>\n      <td>2021-06-27 10:54:06.340000+08:00</td>\n      <td>5</td>\n      <td>0</td>\n      <td>12</td>\n      <td>1</td>\n      <td>57</td>\n      <td>6</td>\n      <td>2</td>\n    </tr>\n    <tr>\n      <th>4</th>\n      <td>1000014754</td>\n      <td>463420121</td>\n      <td>2021-06-26 15:21:07.329000+08:00</td>\n      <td>2</td>\n      <td>0</td>\n      <td>14</td>\n      <td>0</td>\n      <td>0</td>\n      <td>5</td>\n      <td>2</td>\n    </tr>\n  </tbody>\n</table>\n</div>"
     },
     "execution_count": 12,
     "metadata": {},
     "output_type": "execute_result"
    }
   ],
   "source": [
    "# train: 81680000+\n",
    "_file = DATA_DIR.joinpath(\"train_info_100000.txt\")\n",
    "# _file = DATA_DIR.joinpath(\"train_info_5000000.txt\")\n",
    "# _file = DATA_DIR.joinpath(\"train_info.txt\")\n",
    "train_df = PandasUtil.read_csv_by_dd(_file, separator=\"\\t\")\n",
    "print(train_df.npartitions)\n",
    "train_df = train_df.repartition(npartitions=train_df.npartitions * 5)\n",
    "print(train_df.npartitions)\n",
    "\n",
    "train_df.columns =[\n",
    "    \"user_id\", \"item_id\", \"ctx_time_expose\", \"ctx_net_env\", \"u_cnt_flush\",\n",
    "    \"ctx_show_pos\", \"is_click\", \"cnt_read_duration\"\n",
    "]\n",
    "\n",
    "# https://docs.dask.org/en/stable/generated/dask.dataframe.Series.apply.html?highlight=apply\n",
    "train_df['ctx_time_expose'] = train_df['ctx_time_expose'].apply(DateConverter.timestamp_to_datetime, meta=('ctx_time_expose', 'datetime64[ns]'))\n",
    "train_df['ctx_time_expose_day_of_week'] = train_df['ctx_time_expose'].apply(DateUtil.get_day_of_week, meta=('ctx_time_expose', 'int8'))\n",
    "train_df['ctx_time_expose_hour_bucket'] = train_df['ctx_time_expose'].apply(DateUtil.get_hour_bucket, meta=('ctx_time_expose', 'int8'))\n",
    "\n",
    "\n",
    "\n",
    "# train_df['ctx_time_expose'] = train_df['ctx_time_expose'].apply(lambda x: DateConverter.timestamp_to_datetime(x))\n",
    "# train_df['ctx_time_expose_day_of_week'] = train_df['ctx_time_expose'].apply(lambda x: DateUtil.get_day_of_week(x))\n",
    "# train_df['ctx_time_expose_hour_bucket'] = train_df['ctx_time_expose'].apply(lambda x: DateUtil.get_hour_bucket(x))\n",
    "\n",
    "# train_df = train_df.sort_values(by=['ctx_time_expose'], ascending=True)\n",
    "\n",
    "print(train_df.shape)\n",
    "train_df.head()"
   ],
   "metadata": {
    "collapsed": false,
    "pycharm": {
     "name": "#%%\n"
    }
   }
  },
  {
   "cell_type": "code",
   "execution_count": 3,
   "outputs": [
    {
     "name": "stdout",
     "output_type": "stream",
     "text": [
      "(347466, 7)\n"
     ]
    },
    {
     "data": {
      "text/plain": "       item_id                            i_title  i_time_release  i_cnt_img  \\\n0    325279629                         合集|外交部每日答问    1.624890e+12        0.0   \n1    334493096                  汽车点评网友“毛蒙”分享的小视频“    1.563405e+12        0.0   \n2    341014580       抖音爆红车模小姐姐,可爱如神仙,如今大火的她还玩起这个!    1.567068e+12        3.0   \n3    344297472           一夜能挣30万的网红车模,她的捞金神器竟是这个!    1.569240e+12        3.0   \n4    347286095       男子购买假号牌被查,后备箱找到真车牌,车主直言不愿太高调    1.571271e+12        3.0   \n..         ...                                ...             ...        ...   \n995  461750018     越野车内竟然藏了个600升大油罐苏州交通执法查获“流动炸弹”    1.624321e+12        3.0   \n996  461750027        也许他才是神雕中剑法最高的人,实力超杨过却非独孤求败!    1.624321e+12        4.0   \n997  461750057           “雷车”也降价,品牌价值不足,那就只能靠价格弥补    1.624321e+12        9.0   \n998  461750099  1分2失误3大数据垫底!男篮第一天才进nba难了,投三不沾暴露软肋    1.624321e+12        6.0   \n999  461750113        6月26~29日事业有成,运势上升,付出没有白费的生肖    1.624319e+12        3.0   \n\n     i_category1 i_category2  \\\n0             38         NaN   \n1             22       汽车/其他   \n2             10       娱乐/其他   \n3             10       娱乐/其他   \n4             22       汽车/用车   \n..           ...         ...   \n995           20     案件/法治案件   \n996           16     文化艺术/读书   \n997           22     汽车/汽车资讯   \n998            1     体育/中国篮球   \n999           19  星座运势/风水与算命   \n\n                                           i_keys_prob  \n0                                                  NaN  \n1                                       https:8.135272  \n2    初恋:11.052198,吊坠:9.525825,吊坠^^耳环:7.982950,妆容:10...  \n3    主播:10.299306,发展:7.355088,可爱:8.705284,清纯:10.108...  \n4    买车:9.357286,交警:8.964902,交通:7.790495,交通^^秩序:10....  \n..                                                 ...  \n995  中石化:10.730155,公安:8.260727,加油车:16.895083,协查通报:1...  \n996  一灯大师:16.885216,九阴真经:11.781893,人才:7.700833,佩剑:8...  \n997  bba:10.433508,ls:15.310630,东方人:8.539490,中网:6.1...  \n998  cba:8.526146,nba^^球探:12.847561,三分球:10.587807,三...  \n999  上火:10.105922,健康:7.675954,吉星:9.438192,喉咙:7.6419...  \n\n[1000 rows x 7 columns]",
      "text/html": "<div>\n<style scoped>\n    .dataframe tbody tr th:only-of-type {\n        vertical-align: middle;\n    }\n\n    .dataframe tbody tr th {\n        vertical-align: top;\n    }\n\n    .dataframe thead th {\n        text-align: right;\n    }\n</style>\n<table border=\"1\" class=\"dataframe\">\n  <thead>\n    <tr style=\"text-align: right;\">\n      <th></th>\n      <th>item_id</th>\n      <th>i_title</th>\n      <th>i_time_release</th>\n      <th>i_cnt_img</th>\n      <th>i_category1</th>\n      <th>i_category2</th>\n      <th>i_keys_prob</th>\n    </tr>\n  </thead>\n  <tbody>\n    <tr>\n      <th>0</th>\n      <td>325279629</td>\n      <td>合集|外交部每日答问</td>\n      <td>1.624890e+12</td>\n      <td>0.0</td>\n      <td>38</td>\n      <td>NaN</td>\n      <td>NaN</td>\n    </tr>\n    <tr>\n      <th>1</th>\n      <td>334493096</td>\n      <td>汽车点评网友“毛蒙”分享的小视频“</td>\n      <td>1.563405e+12</td>\n      <td>0.0</td>\n      <td>22</td>\n      <td>汽车/其他</td>\n      <td>https:8.135272</td>\n    </tr>\n    <tr>\n      <th>2</th>\n      <td>341014580</td>\n      <td>抖音爆红车模小姐姐,可爱如神仙,如今大火的她还玩起这个!</td>\n      <td>1.567068e+12</td>\n      <td>3.0</td>\n      <td>10</td>\n      <td>娱乐/其他</td>\n      <td>初恋:11.052198,吊坠:9.525825,吊坠^^耳环:7.982950,妆容:10...</td>\n    </tr>\n    <tr>\n      <th>3</th>\n      <td>344297472</td>\n      <td>一夜能挣30万的网红车模,她的捞金神器竟是这个!</td>\n      <td>1.569240e+12</td>\n      <td>3.0</td>\n      <td>10</td>\n      <td>娱乐/其他</td>\n      <td>主播:10.299306,发展:7.355088,可爱:8.705284,清纯:10.108...</td>\n    </tr>\n    <tr>\n      <th>4</th>\n      <td>347286095</td>\n      <td>男子购买假号牌被查,后备箱找到真车牌,车主直言不愿太高调</td>\n      <td>1.571271e+12</td>\n      <td>3.0</td>\n      <td>22</td>\n      <td>汽车/用车</td>\n      <td>买车:9.357286,交警:8.964902,交通:7.790495,交通^^秩序:10....</td>\n    </tr>\n    <tr>\n      <th>...</th>\n      <td>...</td>\n      <td>...</td>\n      <td>...</td>\n      <td>...</td>\n      <td>...</td>\n      <td>...</td>\n      <td>...</td>\n    </tr>\n    <tr>\n      <th>995</th>\n      <td>461750018</td>\n      <td>越野车内竟然藏了个600升大油罐苏州交通执法查获“流动炸弹”</td>\n      <td>1.624321e+12</td>\n      <td>3.0</td>\n      <td>20</td>\n      <td>案件/法治案件</td>\n      <td>中石化:10.730155,公安:8.260727,加油车:16.895083,协查通报:1...</td>\n    </tr>\n    <tr>\n      <th>996</th>\n      <td>461750027</td>\n      <td>也许他才是神雕中剑法最高的人,实力超杨过却非独孤求败!</td>\n      <td>1.624321e+12</td>\n      <td>4.0</td>\n      <td>16</td>\n      <td>文化艺术/读书</td>\n      <td>一灯大师:16.885216,九阴真经:11.781893,人才:7.700833,佩剑:8...</td>\n    </tr>\n    <tr>\n      <th>997</th>\n      <td>461750057</td>\n      <td>“雷车”也降价,品牌价值不足,那就只能靠价格弥补</td>\n      <td>1.624321e+12</td>\n      <td>9.0</td>\n      <td>22</td>\n      <td>汽车/汽车资讯</td>\n      <td>bba:10.433508,ls:15.310630,东方人:8.539490,中网:6.1...</td>\n    </tr>\n    <tr>\n      <th>998</th>\n      <td>461750099</td>\n      <td>1分2失误3大数据垫底!男篮第一天才进nba难了,投三不沾暴露软肋</td>\n      <td>1.624321e+12</td>\n      <td>6.0</td>\n      <td>1</td>\n      <td>体育/中国篮球</td>\n      <td>cba:8.526146,nba^^球探:12.847561,三分球:10.587807,三...</td>\n    </tr>\n    <tr>\n      <th>999</th>\n      <td>461750113</td>\n      <td>6月26~29日事业有成,运势上升,付出没有白费的生肖</td>\n      <td>1.624319e+12</td>\n      <td>3.0</td>\n      <td>19</td>\n      <td>星座运势/风水与算命</td>\n      <td>上火:10.105922,健康:7.675954,吉星:9.438192,喉咙:7.6419...</td>\n    </tr>\n  </tbody>\n</table>\n<p>1000 rows × 7 columns</p>\n</div>"
     },
     "execution_count": 3,
     "metadata": {},
     "output_type": "execute_result"
    }
   ],
   "source": [
    "item_df = pd.read_csv(DATA_DIR.joinpath(\"news_info.txt\"),\n",
    "                      sep='\\t',\n",
    "                      header=None)\n",
    "item_df.columns =[\n",
    "    \"item_id\", \"i_title\", \"i_time_release\", \"i_cnt_img\", \"i_category1\", \"i_category2\", \"i_keys_prob\"\n",
    "]\n",
    "\n",
    "label_encoders = {\n",
    "    \"i_category1\": LabelEncoder(),\n",
    "    \"ctx_device\": LabelEncoder(),\n",
    "    \"ctx_os\": LabelEncoder(),\n",
    "    \"ctx_province\": LabelEncoder(),\n",
    "    \"ctx_city\": LabelEncoder(),\n",
    "}\n",
    "item_df[\"i_category1\"] = label_encoders.get(\"i_category1\").fit_transform(item_df[\"i_category1\"])\n",
    "\n",
    "print(item_df.shape)\n",
    "item_df.head(1000)"
   ],
   "metadata": {
    "collapsed": false,
    "pycharm": {
     "name": "#%%\n"
    }
   }
  },
  {
   "cell_type": "code",
   "execution_count": 4,
   "outputs": [
    {
     "name": "stdout",
     "output_type": "stream",
     "text": [
      "(1029718, 7)\n"
     ]
    },
    {
     "data": {
      "text/plain": "      user_id  ctx_device  ctx_os  ctx_province  ctx_city  \\\n0       17340        2641       1           184       290   \n1      394666         160       0           206       570   \n2      413322        2643       1           199       339   \n3      450280        1380       0           243       501   \n4      456646        1167       0           223       297   \n..        ...         ...     ...           ...       ...   \n995  23199678        1152       0           219       590   \n996  23224752         241       0           206       363   \n997  23237820        1342       0           199       339   \n998  23262374        1272       0           280       699   \n999  23308754        2256       0           212       393   \n\n                                            u_age_prob  \\\n0    A_0_24:0.029774,A_25_29:0.126834,A_30_39:0.789...   \n1    A_0_24:0.400583,A_25_29:0.261192,A_30_39:0.268...   \n2    A_0_24:0.000076,A_25_29:0.017034,A_30_39:0.972...   \n3    A_0_24:0.943772,A_25_29:0.043366,A_30_39:0.011...   \n4    A_0_24:0.024724,A_25_29:0.230098,A_30_39:0.409...   \n..                                                 ...   \n995  A_0_24:0.049074,A_25_29:0.629261,A_30_39:0.302...   \n996  A_0_24:0.008884,A_25_29:0.682589,A_30_39:0.307...   \n997  A_0_24:0.000010,A_25_29:0.000324,A_30_39:0.055...   \n998  A_0_24:0.385883,A_25_29:0.315351,A_30_39:0.242...   \n999  A_0_24:0.217336,A_25_29:0.732691,A_30_39:0.049...   \n\n                        u_sex_prob  \n0    female:0.000000,male:1.000000  \n1    female:0.000000,male:1.000000  \n2    female:0.191682,male:0.808318  \n3    female:0.198083,male:0.801917  \n4    female:0.335419,male:0.664581  \n..                             ...  \n995  female:0.000000,male:1.000000  \n996  female:0.000000,male:1.000000  \n997  female:0.000000,male:1.000000  \n998  female:0.000000,male:1.000000  \n999  female:0.000000,male:1.000000  \n\n[1000 rows x 7 columns]",
      "text/html": "<div>\n<style scoped>\n    .dataframe tbody tr th:only-of-type {\n        vertical-align: middle;\n    }\n\n    .dataframe tbody tr th {\n        vertical-align: top;\n    }\n\n    .dataframe thead th {\n        text-align: right;\n    }\n</style>\n<table border=\"1\" class=\"dataframe\">\n  <thead>\n    <tr style=\"text-align: right;\">\n      <th></th>\n      <th>user_id</th>\n      <th>ctx_device</th>\n      <th>ctx_os</th>\n      <th>ctx_province</th>\n      <th>ctx_city</th>\n      <th>u_age_prob</th>\n      <th>u_sex_prob</th>\n    </tr>\n  </thead>\n  <tbody>\n    <tr>\n      <th>0</th>\n      <td>17340</td>\n      <td>2641</td>\n      <td>1</td>\n      <td>184</td>\n      <td>290</td>\n      <td>A_0_24:0.029774,A_25_29:0.126834,A_30_39:0.789...</td>\n      <td>female:0.000000,male:1.000000</td>\n    </tr>\n    <tr>\n      <th>1</th>\n      <td>394666</td>\n      <td>160</td>\n      <td>0</td>\n      <td>206</td>\n      <td>570</td>\n      <td>A_0_24:0.400583,A_25_29:0.261192,A_30_39:0.268...</td>\n      <td>female:0.000000,male:1.000000</td>\n    </tr>\n    <tr>\n      <th>2</th>\n      <td>413322</td>\n      <td>2643</td>\n      <td>1</td>\n      <td>199</td>\n      <td>339</td>\n      <td>A_0_24:0.000076,A_25_29:0.017034,A_30_39:0.972...</td>\n      <td>female:0.191682,male:0.808318</td>\n    </tr>\n    <tr>\n      <th>3</th>\n      <td>450280</td>\n      <td>1380</td>\n      <td>0</td>\n      <td>243</td>\n      <td>501</td>\n      <td>A_0_24:0.943772,A_25_29:0.043366,A_30_39:0.011...</td>\n      <td>female:0.198083,male:0.801917</td>\n    </tr>\n    <tr>\n      <th>4</th>\n      <td>456646</td>\n      <td>1167</td>\n      <td>0</td>\n      <td>223</td>\n      <td>297</td>\n      <td>A_0_24:0.024724,A_25_29:0.230098,A_30_39:0.409...</td>\n      <td>female:0.335419,male:0.664581</td>\n    </tr>\n    <tr>\n      <th>...</th>\n      <td>...</td>\n      <td>...</td>\n      <td>...</td>\n      <td>...</td>\n      <td>...</td>\n      <td>...</td>\n      <td>...</td>\n    </tr>\n    <tr>\n      <th>995</th>\n      <td>23199678</td>\n      <td>1152</td>\n      <td>0</td>\n      <td>219</td>\n      <td>590</td>\n      <td>A_0_24:0.049074,A_25_29:0.629261,A_30_39:0.302...</td>\n      <td>female:0.000000,male:1.000000</td>\n    </tr>\n    <tr>\n      <th>996</th>\n      <td>23224752</td>\n      <td>241</td>\n      <td>0</td>\n      <td>206</td>\n      <td>363</td>\n      <td>A_0_24:0.008884,A_25_29:0.682589,A_30_39:0.307...</td>\n      <td>female:0.000000,male:1.000000</td>\n    </tr>\n    <tr>\n      <th>997</th>\n      <td>23237820</td>\n      <td>1342</td>\n      <td>0</td>\n      <td>199</td>\n      <td>339</td>\n      <td>A_0_24:0.000010,A_25_29:0.000324,A_30_39:0.055...</td>\n      <td>female:0.000000,male:1.000000</td>\n    </tr>\n    <tr>\n      <th>998</th>\n      <td>23262374</td>\n      <td>1272</td>\n      <td>0</td>\n      <td>280</td>\n      <td>699</td>\n      <td>A_0_24:0.385883,A_25_29:0.315351,A_30_39:0.242...</td>\n      <td>female:0.000000,male:1.000000</td>\n    </tr>\n    <tr>\n      <th>999</th>\n      <td>23308754</td>\n      <td>2256</td>\n      <td>0</td>\n      <td>212</td>\n      <td>393</td>\n      <td>A_0_24:0.217336,A_25_29:0.732691,A_30_39:0.049...</td>\n      <td>female:0.000000,male:1.000000</td>\n    </tr>\n  </tbody>\n</table>\n<p>1000 rows × 7 columns</p>\n</div>"
     },
     "execution_count": 4,
     "metadata": {},
     "output_type": "execute_result"
    }
   ],
   "source": [
    "user_df = pd.read_csv(DATA_DIR.joinpath(\"user_info.txt\"),\n",
    "                      sep='\\t',\n",
    "                      header=None)\n",
    "user_df.columns =[\n",
    "    \"user_id\", \"u_device\", \"u_os\", \"u_province\", \"u_city\", \"u_age_prob\", \"u_sex_prob\"\n",
    "]\n",
    "\n",
    "for column in [\"u_device\", \"u_os\", \"u_province\", \"u_city\"]:\n",
    "    user_df[column] = label_encoders.get(column).fit_transform(user_df[column])\n",
    "\n",
    "print(user_df.shape)\n",
    "user_df.head(1000)"
   ],
   "metadata": {
    "collapsed": false,
    "pycharm": {
     "name": "#%%\n"
    }
   }
  },
  {
   "cell_type": "code",
   "execution_count": 5,
   "outputs": [],
   "source": [
    "X_feats = [\n",
    "    [\"user_id\", \"item_id\", \"ctx_time_expose_day_of_week\", \"ctx_time_expose_hour_bucket\",  \"ctx_net_env\", \"u_cnt_flush\"],\n",
    "    [\"item_id\", \"i_category1\", \"i_cnt_img\"],\n",
    "    [\"user_id\", \"ctx_device\", \"ctx_os\", \"ctx_province\", \"ctx_city\"]\n",
    "]\n",
    "\n",
    "Y_train = train_df[\"is_click\"]\n",
    "train_df = train_df[X_feats[0]]\n",
    "item_df = item_df[X_feats[1]]\n",
    "user_df = user_df[X_feats[2]]\n",
    "\n",
    "train_df = pd.merge(train_df, item_df, how='left', on='item_id')\n",
    "train_df = pd.merge(train_df, user_df, how='left', on='user_id')\n",
    "\n",
    "categories = [\n",
    "    \"ctx_time_expose_day_of_week\", \"ctx_time_expose_hour_bucket\", \"ctx_net_env\",\n",
    "    \"i_category1\",\n",
    "    \"ctx_device\", \"ctx_os\", \"ctx_province\", \"ctx_city\"\n",
    "]\n"
   ],
   "metadata": {
    "collapsed": false,
    "pycharm": {
     "name": "#%%\n"
    }
   }
  },
  {
   "cell_type": "code",
   "execution_count": 6,
   "outputs": [
    {
     "data": {
      "text/plain": "            user_id    item_id  ctx_time_expose_day_of_week  \\\n0        2207836358  462770636                            3   \n1        1514664904  462456703                            3   \n2        2224954538  462723631                            3   \n3        1637502008  462621612                            3   \n4        1599561538  462753067                            3   \n...             ...        ...                          ...   \n3499995  1485781606  463443162                            0   \n3499996  1485781606  463808863                            0   \n3499997  1485781606  463286849                            0   \n3499998  1481514482  463424514                            0   \n3499999  1481514482  463988618                            0   \n\n         ctx_time_expose_hour_bucket  ctx_net_env  u_cnt_flush  i_category1  \\\n0                                  3            2            3           28   \n1                                  3            2            1            2   \n2                                  3            2            3           30   \n3                                  3            2            1            3   \n4                                  3            2            0            1   \n...                              ...          ...          ...          ...   \n3499995                            2            2            7           12   \n3499996                            2            2            7           16   \n3499997                            2            2            7           11   \n3499998                            2            5           13            1   \n3499999                            2            5           13           22   \n\n         i_cnt_img  ctx_device  ctx_os  ctx_province  ctx_city  \n0              0.0        1277       0           219       532  \n1              3.0        1585       0           237       584  \n2             20.0         325       0           199       339  \n3              5.0        1574       0           237       437  \n4             13.0         864       0           242       530  \n...            ...         ...     ...           ...       ...  \n3499995        0.0        1282       0           220       395  \n3499996        3.0        1282       0           220       395  \n3499997        3.0        1282       0           220       395  \n3499998        9.0         872       0           215       653  \n3499999        7.0         872       0           215       653  \n\n[3500000 rows x 12 columns]",
      "text/html": "<div>\n<style scoped>\n    .dataframe tbody tr th:only-of-type {\n        vertical-align: middle;\n    }\n\n    .dataframe tbody tr th {\n        vertical-align: top;\n    }\n\n    .dataframe thead th {\n        text-align: right;\n    }\n</style>\n<table border=\"1\" class=\"dataframe\">\n  <thead>\n    <tr style=\"text-align: right;\">\n      <th></th>\n      <th>user_id</th>\n      <th>item_id</th>\n      <th>ctx_time_expose_day_of_week</th>\n      <th>ctx_time_expose_hour_bucket</th>\n      <th>ctx_net_env</th>\n      <th>u_cnt_flush</th>\n      <th>i_category1</th>\n      <th>i_cnt_img</th>\n      <th>ctx_device</th>\n      <th>ctx_os</th>\n      <th>ctx_province</th>\n      <th>ctx_city</th>\n    </tr>\n  </thead>\n  <tbody>\n    <tr>\n      <th>0</th>\n      <td>2207836358</td>\n      <td>462770636</td>\n      <td>3</td>\n      <td>3</td>\n      <td>2</td>\n      <td>3</td>\n      <td>28</td>\n      <td>0.0</td>\n      <td>1277</td>\n      <td>0</td>\n      <td>219</td>\n      <td>532</td>\n    </tr>\n    <tr>\n      <th>1</th>\n      <td>1514664904</td>\n      <td>462456703</td>\n      <td>3</td>\n      <td>3</td>\n      <td>2</td>\n      <td>1</td>\n      <td>2</td>\n      <td>3.0</td>\n      <td>1585</td>\n      <td>0</td>\n      <td>237</td>\n      <td>584</td>\n    </tr>\n    <tr>\n      <th>2</th>\n      <td>2224954538</td>\n      <td>462723631</td>\n      <td>3</td>\n      <td>3</td>\n      <td>2</td>\n      <td>3</td>\n      <td>30</td>\n      <td>20.0</td>\n      <td>325</td>\n      <td>0</td>\n      <td>199</td>\n      <td>339</td>\n    </tr>\n    <tr>\n      <th>3</th>\n      <td>1637502008</td>\n      <td>462621612</td>\n      <td>3</td>\n      <td>3</td>\n      <td>2</td>\n      <td>1</td>\n      <td>3</td>\n      <td>5.0</td>\n      <td>1574</td>\n      <td>0</td>\n      <td>237</td>\n      <td>437</td>\n    </tr>\n    <tr>\n      <th>4</th>\n      <td>1599561538</td>\n      <td>462753067</td>\n      <td>3</td>\n      <td>3</td>\n      <td>2</td>\n      <td>0</td>\n      <td>1</td>\n      <td>13.0</td>\n      <td>864</td>\n      <td>0</td>\n      <td>242</td>\n      <td>530</td>\n    </tr>\n    <tr>\n      <th>...</th>\n      <td>...</td>\n      <td>...</td>\n      <td>...</td>\n      <td>...</td>\n      <td>...</td>\n      <td>...</td>\n      <td>...</td>\n      <td>...</td>\n      <td>...</td>\n      <td>...</td>\n      <td>...</td>\n      <td>...</td>\n    </tr>\n    <tr>\n      <th>3499995</th>\n      <td>1485781606</td>\n      <td>463443162</td>\n      <td>0</td>\n      <td>2</td>\n      <td>2</td>\n      <td>7</td>\n      <td>12</td>\n      <td>0.0</td>\n      <td>1282</td>\n      <td>0</td>\n      <td>220</td>\n      <td>395</td>\n    </tr>\n    <tr>\n      <th>3499996</th>\n      <td>1485781606</td>\n      <td>463808863</td>\n      <td>0</td>\n      <td>2</td>\n      <td>2</td>\n      <td>7</td>\n      <td>16</td>\n      <td>3.0</td>\n      <td>1282</td>\n      <td>0</td>\n      <td>220</td>\n      <td>395</td>\n    </tr>\n    <tr>\n      <th>3499997</th>\n      <td>1485781606</td>\n      <td>463286849</td>\n      <td>0</td>\n      <td>2</td>\n      <td>2</td>\n      <td>7</td>\n      <td>11</td>\n      <td>3.0</td>\n      <td>1282</td>\n      <td>0</td>\n      <td>220</td>\n      <td>395</td>\n    </tr>\n    <tr>\n      <th>3499998</th>\n      <td>1481514482</td>\n      <td>463424514</td>\n      <td>0</td>\n      <td>2</td>\n      <td>5</td>\n      <td>13</td>\n      <td>1</td>\n      <td>9.0</td>\n      <td>872</td>\n      <td>0</td>\n      <td>215</td>\n      <td>653</td>\n    </tr>\n    <tr>\n      <th>3499999</th>\n      <td>1481514482</td>\n      <td>463988618</td>\n      <td>0</td>\n      <td>2</td>\n      <td>5</td>\n      <td>13</td>\n      <td>22</td>\n      <td>7.0</td>\n      <td>872</td>\n      <td>0</td>\n      <td>215</td>\n      <td>653</td>\n    </tr>\n  </tbody>\n</table>\n<p>3500000 rows × 12 columns</p>\n</div>"
     },
     "execution_count": 6,
     "metadata": {},
     "output_type": "execute_result"
    }
   ],
   "source": [
    "train_size = int(train_df.shape[0] * 0.7)\n",
    "X_tra, Y_tra = train_df[:train_size], Y_train[:train_size]\n",
    "X_dev, Y_dev = train_df[train_size:], Y_train[train_size:]\n",
    "\n",
    "X_tra"
   ],
   "metadata": {
    "collapsed": false,
    "pycharm": {
     "name": "#%%\n"
    }
   }
  },
  {
   "cell_type": "code",
   "execution_count": 7,
   "outputs": [
    {
     "name": "stderr",
     "output_type": "stream",
     "text": [
      "/Users/chubin.zheng/ENVS/web_search_and_recommender/lib/python3.7/site-packages/lightgbm/sklearn.py:598: UserWarning: 'silent' argument is deprecated and will be removed in a future release of LightGBM. Pass 'verbose' parameter via keyword arguments instead.\n",
      "  _log_warning(\"'silent' argument is deprecated and will be removed in a future release of LightGBM. \"\n",
      "/Users/chubin.zheng/ENVS/web_search_and_recommender/lib/python3.7/site-packages/lightgbm/sklearn.py:726: UserWarning: 'early_stopping_rounds' argument is deprecated and will be removed in a future release of LightGBM. Pass 'early_stopping()' callback via 'callbacks' argument instead.\n",
      "  _log_warning(\"'early_stopping_rounds' argument is deprecated and will be removed in a future release of LightGBM. \"\n",
      "/Users/chubin.zheng/ENVS/web_search_and_recommender/lib/python3.7/site-packages/lightgbm/basic.py:2065: UserWarning: Using categorical_feature in Dataset.\n",
      "  _log_warning('Using categorical_feature in Dataset.')\n",
      "/Users/chubin.zheng/ENVS/web_search_and_recommender/lib/python3.7/site-packages/lightgbm/basic.py:2068: UserWarning: categorical_feature in Dataset is overridden.\n",
      "New categorical_feature is ['ctx_city', 'ctx_device', 'ctx_net_env', 'ctx_os', 'ctx_province', 'ctx_time_expose_day_of_week', 'ctx_time_expose_hour_bucket', 'i_category1']\n",
      "  _log_warning('categorical_feature in Dataset is overridden.\\n'\n",
      "/Users/chubin.zheng/ENVS/web_search_and_recommender/lib/python3.7/site-packages/lightgbm/basic.py:1780: UserWarning: Overriding the parameters from Reference Dataset.\n",
      "  _log_warning('Overriding the parameters from Reference Dataset.')\n",
      "/Users/chubin.zheng/ENVS/web_search_and_recommender/lib/python3.7/site-packages/lightgbm/basic.py:1513: UserWarning: categorical_column in param dict is overridden.\n",
      "  _log_warning(f'{cat_alias} in param dict is overridden.')\n"
     ]
    },
    {
     "name": "stdout",
     "output_type": "stream",
     "text": [
      "[1]\teval's binary_logloss: 0.401294\teval's auc: 0.655256\n",
      "[2]\teval's binary_logloss: 0.399643\teval's auc: 0.658362\n",
      "[3]\teval's binary_logloss: 0.39818\teval's auc: 0.658409\n",
      "[4]\teval's binary_logloss: 0.396863\teval's auc: 0.658901\n",
      "[5]\teval's binary_logloss: 0.395654\teval's auc: 0.658954\n",
      "[6]\teval's binary_logloss: 0.394563\teval's auc: 0.658976\n",
      "[7]\teval's binary_logloss: 0.393541\teval's auc: 0.659632\n",
      "[8]\teval's binary_logloss: 0.39264\teval's auc: 0.659824\n",
      "[9]\teval's binary_logloss: 0.391792\teval's auc: 0.660354\n",
      "[10]\teval's binary_logloss: 0.39101\teval's auc: 0.660805\n",
      "[11]\teval's binary_logloss: 0.390303\teval's auc: 0.661129\n",
      "[12]\teval's binary_logloss: 0.389652\teval's auc: 0.661414\n",
      "[13]\teval's binary_logloss: 0.389066\teval's auc: 0.661572\n",
      "[14]\teval's binary_logloss: 0.388512\teval's auc: 0.661807\n",
      "[15]\teval's binary_logloss: 0.387996\teval's auc: 0.661963\n",
      "[16]\teval's binary_logloss: 0.387507\teval's auc: 0.662299\n",
      "[17]\teval's binary_logloss: 0.38707\teval's auc: 0.66246\n",
      "[18]\teval's binary_logloss: 0.386654\teval's auc: 0.662737\n",
      "[19]\teval's binary_logloss: 0.38628\teval's auc: 0.662908\n",
      "[20]\teval's binary_logloss: 0.385906\teval's auc: 0.663294\n",
      "[21]\teval's binary_logloss: 0.385546\teval's auc: 0.663686\n",
      "[22]\teval's binary_logloss: 0.385237\teval's auc: 0.663959\n",
      "[23]\teval's binary_logloss: 0.384935\teval's auc: 0.664241\n",
      "[24]\teval's binary_logloss: 0.384603\teval's auc: 0.664843\n",
      "[25]\teval's binary_logloss: 0.384334\teval's auc: 0.665248\n",
      "[26]\teval's binary_logloss: 0.384068\teval's auc: 0.665672\n",
      "[27]\teval's binary_logloss: 0.38384\teval's auc: 0.665923\n",
      "[28]\teval's binary_logloss: 0.3836\teval's auc: 0.666307\n",
      "[29]\teval's binary_logloss: 0.383373\teval's auc: 0.666682\n",
      "[30]\teval's binary_logloss: 0.383181\teval's auc: 0.666917\n",
      "[31]\teval's binary_logloss: 0.383002\teval's auc: 0.667083\n",
      "[32]\teval's binary_logloss: 0.382821\teval's auc: 0.667399\n",
      "[33]\teval's binary_logloss: 0.382654\teval's auc: 0.667643\n",
      "[34]\teval's binary_logloss: 0.382475\teval's auc: 0.667963\n",
      "[35]\teval's binary_logloss: 0.382294\teval's auc: 0.668388\n",
      "[36]\teval's binary_logloss: 0.382119\teval's auc: 0.66878\n",
      "[37]\teval's binary_logloss: 0.381952\teval's auc: 0.669121\n",
      "[38]\teval's binary_logloss: 0.381792\teval's auc: 0.669517\n",
      "[39]\teval's binary_logloss: 0.381618\teval's auc: 0.669942\n",
      "[40]\teval's binary_logloss: 0.381466\teval's auc: 0.670267\n",
      "[41]\teval's binary_logloss: 0.381324\teval's auc: 0.670618\n",
      "[42]\teval's binary_logloss: 0.381222\teval's auc: 0.670839\n",
      "[43]\teval's binary_logloss: 0.381061\teval's auc: 0.67132\n",
      "[44]\teval's binary_logloss: 0.380914\teval's auc: 0.671681\n",
      "[45]\teval's binary_logloss: 0.380769\teval's auc: 0.672104\n",
      "[46]\teval's binary_logloss: 0.380674\teval's auc: 0.672312\n",
      "[47]\teval's binary_logloss: 0.380538\teval's auc: 0.672746\n",
      "[48]\teval's binary_logloss: 0.380429\teval's auc: 0.673008\n",
      "[49]\teval's binary_logloss: 0.380287\teval's auc: 0.673486\n",
      "[50]\teval's binary_logloss: 0.380197\teval's auc: 0.673665\n",
      "[51]\teval's binary_logloss: 0.380071\teval's auc: 0.674068\n",
      "[52]\teval's binary_logloss: 0.379941\teval's auc: 0.674418\n",
      "[53]\teval's binary_logloss: 0.379826\teval's auc: 0.674755\n",
      "[54]\teval's binary_logloss: 0.379719\teval's auc: 0.675072\n",
      "[55]\teval's binary_logloss: 0.379607\teval's auc: 0.675307\n",
      "[56]\teval's binary_logloss: 0.379505\teval's auc: 0.675596\n",
      "[57]\teval's binary_logloss: 0.379422\teval's auc: 0.675792\n",
      "[58]\teval's binary_logloss: 0.379347\teval's auc: 0.67599\n",
      "[59]\teval's binary_logloss: 0.379264\teval's auc: 0.676226\n",
      "[60]\teval's binary_logloss: 0.379179\teval's auc: 0.676469\n",
      "[61]\teval's binary_logloss: 0.379051\teval's auc: 0.676892\n",
      "[62]\teval's binary_logloss: 0.378995\teval's auc: 0.677044\n",
      "[63]\teval's binary_logloss: 0.378854\teval's auc: 0.677584\n",
      "[64]\teval's binary_logloss: 0.378781\teval's auc: 0.677804\n",
      "[65]\teval's binary_logloss: 0.378658\teval's auc: 0.678199\n",
      "[66]\teval's binary_logloss: 0.378457\teval's auc: 0.678917\n",
      "[67]\teval's binary_logloss: 0.378275\teval's auc: 0.679595\n",
      "[68]\teval's binary_logloss: 0.378123\teval's auc: 0.680114\n",
      "[69]\teval's binary_logloss: 0.378069\teval's auc: 0.680221\n",
      "[70]\teval's binary_logloss: 0.377991\teval's auc: 0.68045\n",
      "[71]\teval's binary_logloss: 0.377881\teval's auc: 0.680807\n",
      "[72]\teval's binary_logloss: 0.377756\teval's auc: 0.681219\n",
      "[73]\teval's binary_logloss: 0.377633\teval's auc: 0.681623\n",
      "[74]\teval's binary_logloss: 0.377561\teval's auc: 0.681847\n",
      "[75]\teval's binary_logloss: 0.377383\teval's auc: 0.682462\n",
      "[76]\teval's binary_logloss: 0.377295\teval's auc: 0.682757\n",
      "[77]\teval's binary_logloss: 0.377217\teval's auc: 0.683023\n",
      "[78]\teval's binary_logloss: 0.377177\teval's auc: 0.683103\n",
      "[79]\teval's binary_logloss: 0.37705\teval's auc: 0.683518\n",
      "[80]\teval's binary_logloss: 0.37689\teval's auc: 0.684043\n",
      "[81]\teval's binary_logloss: 0.376851\teval's auc: 0.684135\n",
      "[82]\teval's binary_logloss: 0.376748\teval's auc: 0.684463\n",
      "[83]\teval's binary_logloss: 0.3767\teval's auc: 0.684729\n",
      "[84]\teval's binary_logloss: 0.376619\teval's auc: 0.684984\n",
      "[85]\teval's binary_logloss: 0.376617\teval's auc: 0.685001\n",
      "[86]\teval's binary_logloss: 0.376499\teval's auc: 0.685428\n",
      "[87]\teval's binary_logloss: 0.376423\teval's auc: 0.68567\n",
      "[88]\teval's binary_logloss: 0.376266\teval's auc: 0.686184\n",
      "[89]\teval's binary_logloss: 0.37615\teval's auc: 0.686533\n",
      "[90]\teval's binary_logloss: 0.376103\teval's auc: 0.686679\n",
      "[91]\teval's binary_logloss: 0.376054\teval's auc: 0.686799\n",
      "[92]\teval's binary_logloss: 0.376028\teval's auc: 0.686859\n",
      "[93]\teval's binary_logloss: 0.375926\teval's auc: 0.687187\n",
      "[94]\teval's binary_logloss: 0.37591\teval's auc: 0.687249\n",
      "[95]\teval's binary_logloss: 0.37589\teval's auc: 0.687302\n",
      "[96]\teval's binary_logloss: 0.375841\teval's auc: 0.687412\n",
      "[97]\teval's binary_logloss: 0.3758\teval's auc: 0.687529\n",
      "[98]\teval's binary_logloss: 0.375648\teval's auc: 0.688032\n",
      "[99]\teval's binary_logloss: 0.375571\teval's auc: 0.688253\n",
      "[100]\teval's binary_logloss: 0.375507\teval's auc: 0.688441\n",
      "模型保存成功 model.txt.\n"
     ]
    },
    {
     "data": {
      "text/plain": "LGBMClassifier(colsample_bytree=1, device='cpu', learning_rate=0.05,\n               max_bin=425, min_child_samples=10, min_child_weight=5,\n               min_split_gain=0, n_jobs=16, num_leaves=64, objective='binary',\n               reg_alpha=3, reg_lambda=5, seed=1000, silent=True, subsample=0.8,\n               subsample_for_bin=50000, subsample_freq=1)"
     },
     "execution_count": 7,
     "metadata": {},
     "output_type": "execute_result"
    }
   ],
   "source": [
    "\n",
    "XgbLightGBWrapper.create_classifier(X_tra, Y_tra, X_dev, Y_dev, cate_features=categories)"
   ],
   "metadata": {
    "collapsed": false,
    "pycharm": {
     "name": "#%%\n"
    }
   }
  },
  {
   "cell_type": "code",
   "execution_count": 7,
   "outputs": [
    {
     "data": {
      "text/plain": "       order     user_id    item_id                  ctx_time_expose  \\\n0          0  2204868548  464495940 2021-06-30 08:09:34.995000+08:00   \n1          1  1623790870  464553715 2021-06-30 23:14:14.894000+08:00   \n2          2  1637010070  464687570 2021-06-30 19:45:46.711000+08:00   \n3          3  1634251474  464661865 2021-06-30 17:56:54.335000+08:00   \n4          4  2352721164  464692079 2021-06-30 14:43:03.911000+08:00   \n...      ...         ...        ...                              ...   \n49995  49995  1640585246  464553715 2021-06-30 15:02:48.698000+08:00   \n49996  49996  1987843480  464382231 2021-06-30 07:31:09.794000+08:00   \n49997  49997  2391080328  464617167 2021-06-30 12:32:46.512000+08:00   \n49998  49998   125699342  464172118 2021-06-30 14:31:32.217000+08:00   \n49999  49999  2154437014  464225813 2021-06-30 07:17:17.470000+08:00   \n\n       ctx_net_env  u_cnt_flush  ctx_time_expose_day_of_week  \\\n0                2            4                            2   \n1                2            2                            2   \n2                2           10                            2   \n3                2           10                            2   \n4                2           11                            2   \n...            ...          ...                          ...   \n49995            2            1                            2   \n49996            2            1                            2   \n49997            5            1                            2   \n49998            2           11                            2   \n49999            2            3                            2   \n\n       ctx_time_expose_hour_bucket  \n0                                1  \n1                                3  \n2                                3  \n3                                3  \n4                                2  \n...                            ...  \n49995                            2  \n49996                            1  \n49997                            2  \n49998                            2  \n49999                            1  \n\n[50000 rows x 8 columns]",
      "text/html": "<div>\n<style scoped>\n    .dataframe tbody tr th:only-of-type {\n        vertical-align: middle;\n    }\n\n    .dataframe tbody tr th {\n        vertical-align: top;\n    }\n\n    .dataframe thead th {\n        text-align: right;\n    }\n</style>\n<table border=\"1\" class=\"dataframe\">\n  <thead>\n    <tr style=\"text-align: right;\">\n      <th></th>\n      <th>order</th>\n      <th>user_id</th>\n      <th>item_id</th>\n      <th>ctx_time_expose</th>\n      <th>ctx_net_env</th>\n      <th>u_cnt_flush</th>\n      <th>ctx_time_expose_day_of_week</th>\n      <th>ctx_time_expose_hour_bucket</th>\n    </tr>\n  </thead>\n  <tbody>\n    <tr>\n      <th>0</th>\n      <td>0</td>\n      <td>2204868548</td>\n      <td>464495940</td>\n      <td>2021-06-30 08:09:34.995000+08:00</td>\n      <td>2</td>\n      <td>4</td>\n      <td>2</td>\n      <td>1</td>\n    </tr>\n    <tr>\n      <th>1</th>\n      <td>1</td>\n      <td>1623790870</td>\n      <td>464553715</td>\n      <td>2021-06-30 23:14:14.894000+08:00</td>\n      <td>2</td>\n      <td>2</td>\n      <td>2</td>\n      <td>3</td>\n    </tr>\n    <tr>\n      <th>2</th>\n      <td>2</td>\n      <td>1637010070</td>\n      <td>464687570</td>\n      <td>2021-06-30 19:45:46.711000+08:00</td>\n      <td>2</td>\n      <td>10</td>\n      <td>2</td>\n      <td>3</td>\n    </tr>\n    <tr>\n      <th>3</th>\n      <td>3</td>\n      <td>1634251474</td>\n      <td>464661865</td>\n      <td>2021-06-30 17:56:54.335000+08:00</td>\n      <td>2</td>\n      <td>10</td>\n      <td>2</td>\n      <td>3</td>\n    </tr>\n    <tr>\n      <th>4</th>\n      <td>4</td>\n      <td>2352721164</td>\n      <td>464692079</td>\n      <td>2021-06-30 14:43:03.911000+08:00</td>\n      <td>2</td>\n      <td>11</td>\n      <td>2</td>\n      <td>2</td>\n    </tr>\n    <tr>\n      <th>...</th>\n      <td>...</td>\n      <td>...</td>\n      <td>...</td>\n      <td>...</td>\n      <td>...</td>\n      <td>...</td>\n      <td>...</td>\n      <td>...</td>\n    </tr>\n    <tr>\n      <th>49995</th>\n      <td>49995</td>\n      <td>1640585246</td>\n      <td>464553715</td>\n      <td>2021-06-30 15:02:48.698000+08:00</td>\n      <td>2</td>\n      <td>1</td>\n      <td>2</td>\n      <td>2</td>\n    </tr>\n    <tr>\n      <th>49996</th>\n      <td>49996</td>\n      <td>1987843480</td>\n      <td>464382231</td>\n      <td>2021-06-30 07:31:09.794000+08:00</td>\n      <td>2</td>\n      <td>1</td>\n      <td>2</td>\n      <td>1</td>\n    </tr>\n    <tr>\n      <th>49997</th>\n      <td>49997</td>\n      <td>2391080328</td>\n      <td>464617167</td>\n      <td>2021-06-30 12:32:46.512000+08:00</td>\n      <td>5</td>\n      <td>1</td>\n      <td>2</td>\n      <td>2</td>\n    </tr>\n    <tr>\n      <th>49998</th>\n      <td>49998</td>\n      <td>125699342</td>\n      <td>464172118</td>\n      <td>2021-06-30 14:31:32.217000+08:00</td>\n      <td>2</td>\n      <td>11</td>\n      <td>2</td>\n      <td>2</td>\n    </tr>\n    <tr>\n      <th>49999</th>\n      <td>49999</td>\n      <td>2154437014</td>\n      <td>464225813</td>\n      <td>2021-06-30 07:17:17.470000+08:00</td>\n      <td>2</td>\n      <td>3</td>\n      <td>2</td>\n      <td>1</td>\n    </tr>\n  </tbody>\n</table>\n<p>50000 rows × 8 columns</p>\n</div>"
     },
     "execution_count": 7,
     "metadata": {},
     "output_type": "execute_result"
    }
   ],
   "source": [
    "test_file = DATA_DIR.joinpath(\"test_info.txt\")\n",
    "test_df = pd.read_csv(test_file,\n",
    "                      sep='\\t',\n",
    "                      header=None)\n",
    "test_df.columns = [\"order\", \"user_id\", \"item_id\", 'ctx_time_expose', \"ctx_net_env\", \"u_cnt_flush\",]\n",
    "\n",
    "test_df['ctx_time_expose'] = test_df['ctx_time_expose'].apply(lambda x: DateConverter.timestamp_to_datetime(x))\n",
    "test_df['ctx_time_expose_day_of_week'] = test_df['ctx_time_expose'].apply(lambda x: DateUtil.get_day_of_week(x))\n",
    "test_df['ctx_time_expose_hour_bucket'] = test_df['ctx_time_expose'].apply(lambda x: DateUtil.get_hour_bucket(x))\n",
    "\n",
    "test_df"
   ],
   "metadata": {
    "collapsed": false,
    "pycharm": {
     "name": "#%%\n"
    }
   }
  },
  {
   "cell_type": "code",
   "execution_count": 9,
   "outputs": [
    {
     "data": {
      "text/plain": "          user_id    item_id  ctx_time_expose_day_of_week  \\\n0      2204868548  464495940                            2   \n1      1623790870  464553715                            2   \n2      1637010070  464687570                            2   \n3      1634251474  464661865                            2   \n4      2352721164  464692079                            2   \n...           ...        ...                          ...   \n49995  1640585246  464553715                            2   \n49996  1987843480  464382231                            2   \n49997  2391080328  464617167                            2   \n49998   125699342  464172118                            2   \n49999  2154437014  464225813                            2   \n\n       ctx_time_expose_hour_bucket  ctx_net_env  u_cnt_flush  i_category1  \\\n0                                1            2            4           10   \n1                                3            2            2           10   \n2                                3            2           10           10   \n3                                3            2           10           12   \n4                                2            2           11            3   \n...                            ...          ...          ...          ...   \n49995                            2            2            1           10   \n49996                            1            2            1            2   \n49997                            2            5            1           15   \n49998                            2            2           11            3   \n49999                            1            2            3           12   \n\n       i_cnt_img  ctx_device  ctx_os  ctx_province  ctx_city  \n0           23.0        1478       0           223       505  \n1            9.0        2809       0           215       653  \n2            6.0        1224       0           279       559  \n3            9.0         980       0           241       359  \n4            8.0        1784       0           194       621  \n...          ...         ...     ...           ...       ...  \n49995        9.0        1575       0           219       550  \n49996        3.0        1601       0           223       509  \n49997        6.0         863       0           241       645  \n49998        0.0         575       0           199       339  \n49999        7.0        1264       0           207       432  \n\n[50000 rows x 12 columns]",
      "text/html": "<div>\n<style scoped>\n    .dataframe tbody tr th:only-of-type {\n        vertical-align: middle;\n    }\n\n    .dataframe tbody tr th {\n        vertical-align: top;\n    }\n\n    .dataframe thead th {\n        text-align: right;\n    }\n</style>\n<table border=\"1\" class=\"dataframe\">\n  <thead>\n    <tr style=\"text-align: right;\">\n      <th></th>\n      <th>user_id</th>\n      <th>item_id</th>\n      <th>ctx_time_expose_day_of_week</th>\n      <th>ctx_time_expose_hour_bucket</th>\n      <th>ctx_net_env</th>\n      <th>u_cnt_flush</th>\n      <th>i_category1</th>\n      <th>i_cnt_img</th>\n      <th>ctx_device</th>\n      <th>ctx_os</th>\n      <th>ctx_province</th>\n      <th>ctx_city</th>\n    </tr>\n  </thead>\n  <tbody>\n    <tr>\n      <th>0</th>\n      <td>2204868548</td>\n      <td>464495940</td>\n      <td>2</td>\n      <td>1</td>\n      <td>2</td>\n      <td>4</td>\n      <td>10</td>\n      <td>23.0</td>\n      <td>1478</td>\n      <td>0</td>\n      <td>223</td>\n      <td>505</td>\n    </tr>\n    <tr>\n      <th>1</th>\n      <td>1623790870</td>\n      <td>464553715</td>\n      <td>2</td>\n      <td>3</td>\n      <td>2</td>\n      <td>2</td>\n      <td>10</td>\n      <td>9.0</td>\n      <td>2809</td>\n      <td>0</td>\n      <td>215</td>\n      <td>653</td>\n    </tr>\n    <tr>\n      <th>2</th>\n      <td>1637010070</td>\n      <td>464687570</td>\n      <td>2</td>\n      <td>3</td>\n      <td>2</td>\n      <td>10</td>\n      <td>10</td>\n      <td>6.0</td>\n      <td>1224</td>\n      <td>0</td>\n      <td>279</td>\n      <td>559</td>\n    </tr>\n    <tr>\n      <th>3</th>\n      <td>1634251474</td>\n      <td>464661865</td>\n      <td>2</td>\n      <td>3</td>\n      <td>2</td>\n      <td>10</td>\n      <td>12</td>\n      <td>9.0</td>\n      <td>980</td>\n      <td>0</td>\n      <td>241</td>\n      <td>359</td>\n    </tr>\n    <tr>\n      <th>4</th>\n      <td>2352721164</td>\n      <td>464692079</td>\n      <td>2</td>\n      <td>2</td>\n      <td>2</td>\n      <td>11</td>\n      <td>3</td>\n      <td>8.0</td>\n      <td>1784</td>\n      <td>0</td>\n      <td>194</td>\n      <td>621</td>\n    </tr>\n    <tr>\n      <th>...</th>\n      <td>...</td>\n      <td>...</td>\n      <td>...</td>\n      <td>...</td>\n      <td>...</td>\n      <td>...</td>\n      <td>...</td>\n      <td>...</td>\n      <td>...</td>\n      <td>...</td>\n      <td>...</td>\n      <td>...</td>\n    </tr>\n    <tr>\n      <th>49995</th>\n      <td>1640585246</td>\n      <td>464553715</td>\n      <td>2</td>\n      <td>2</td>\n      <td>2</td>\n      <td>1</td>\n      <td>10</td>\n      <td>9.0</td>\n      <td>1575</td>\n      <td>0</td>\n      <td>219</td>\n      <td>550</td>\n    </tr>\n    <tr>\n      <th>49996</th>\n      <td>1987843480</td>\n      <td>464382231</td>\n      <td>2</td>\n      <td>1</td>\n      <td>2</td>\n      <td>1</td>\n      <td>2</td>\n      <td>3.0</td>\n      <td>1601</td>\n      <td>0</td>\n      <td>223</td>\n      <td>509</td>\n    </tr>\n    <tr>\n      <th>49997</th>\n      <td>2391080328</td>\n      <td>464617167</td>\n      <td>2</td>\n      <td>2</td>\n      <td>5</td>\n      <td>1</td>\n      <td>15</td>\n      <td>6.0</td>\n      <td>863</td>\n      <td>0</td>\n      <td>241</td>\n      <td>645</td>\n    </tr>\n    <tr>\n      <th>49998</th>\n      <td>125699342</td>\n      <td>464172118</td>\n      <td>2</td>\n      <td>2</td>\n      <td>2</td>\n      <td>11</td>\n      <td>3</td>\n      <td>0.0</td>\n      <td>575</td>\n      <td>0</td>\n      <td>199</td>\n      <td>339</td>\n    </tr>\n    <tr>\n      <th>49999</th>\n      <td>2154437014</td>\n      <td>464225813</td>\n      <td>2</td>\n      <td>1</td>\n      <td>2</td>\n      <td>3</td>\n      <td>12</td>\n      <td>7.0</td>\n      <td>1264</td>\n      <td>0</td>\n      <td>207</td>\n      <td>432</td>\n    </tr>\n  </tbody>\n</table>\n<p>50000 rows × 12 columns</p>\n</div>"
     },
     "execution_count": 9,
     "metadata": {},
     "output_type": "execute_result"
    }
   ],
   "source": [
    "test_df = test_df[X_feats[0]]\n",
    "\n",
    "test_df = pd.merge(test_df, item_df, how='left', on='item_id')\n",
    "test_df = pd.merge(test_df, user_df, how='left', on='user_id')\n",
    "\n",
    "test_df"
   ],
   "metadata": {
    "collapsed": false,
    "pycharm": {
     "name": "#%%\n"
    }
   }
  },
  {
   "cell_type": "code",
   "execution_count": 13,
   "outputs": [
    {
     "name": "stdout",
     "output_type": "stream",
     "text": [
      "y_pred.shape=(50000,), <class 'numpy.ndarray'>,[0.08377885 0.1089102  0.11215458 0.10648261 0.06874617]\n"
     ]
    },
    {
     "data": {
      "text/plain": "array([0.08377885, 0.1089102 , 0.11215458, ..., 0.1863659 , 0.09705234,\n       0.12345721])"
     },
     "execution_count": 13,
     "metadata": {},
     "output_type": "execute_result"
    }
   ],
   "source": [
    "predicts = XgbLightGBWrapper.predict(\"model.txt\", test_df)\n",
    "predicts"
   ],
   "metadata": {
    "collapsed": false,
    "pycharm": {
     "name": "#%%\n"
    }
   }
  },
  {
   "cell_type": "code",
   "execution_count": 17,
   "outputs": [
    {
     "data": {
      "text/plain": "           pred\n0      0.083779\n1      0.108910\n2      0.112155\n3      0.106483\n4      0.068746\n...         ...\n49995  0.211686\n49996  0.245154\n49997  0.186366\n49998  0.097052\n49999  0.123457\n\n[50000 rows x 1 columns]",
      "text/html": "<div>\n<style scoped>\n    .dataframe tbody tr th:only-of-type {\n        vertical-align: middle;\n    }\n\n    .dataframe tbody tr th {\n        vertical-align: top;\n    }\n\n    .dataframe thead th {\n        text-align: right;\n    }\n</style>\n<table border=\"1\" class=\"dataframe\">\n  <thead>\n    <tr style=\"text-align: right;\">\n      <th></th>\n      <th>pred</th>\n    </tr>\n  </thead>\n  <tbody>\n    <tr>\n      <th>0</th>\n      <td>0.083779</td>\n    </tr>\n    <tr>\n      <th>1</th>\n      <td>0.108910</td>\n    </tr>\n    <tr>\n      <th>2</th>\n      <td>0.112155</td>\n    </tr>\n    <tr>\n      <th>3</th>\n      <td>0.106483</td>\n    </tr>\n    <tr>\n      <th>4</th>\n      <td>0.068746</td>\n    </tr>\n    <tr>\n      <th>...</th>\n      <td>...</td>\n    </tr>\n    <tr>\n      <th>49995</th>\n      <td>0.211686</td>\n    </tr>\n    <tr>\n      <th>49996</th>\n      <td>0.245154</td>\n    </tr>\n    <tr>\n      <th>49997</th>\n      <td>0.186366</td>\n    </tr>\n    <tr>\n      <th>49998</th>\n      <td>0.097052</td>\n    </tr>\n    <tr>\n      <th>49999</th>\n      <td>0.123457</td>\n    </tr>\n  </tbody>\n</table>\n<p>50000 rows × 1 columns</p>\n</div>"
     },
     "execution_count": 17,
     "metadata": {},
     "output_type": "execute_result"
    }
   ],
   "source": [
    "df = pd.DataFrame(\n",
    "    {\"pred\": predicts}\n",
    ")\n",
    "df.to_csv(\"predict.csv\")\n",
    "df"
   ],
   "metadata": {
    "collapsed": false,
    "pycharm": {
     "name": "#%%\n"
    }
   }
  },
  {
   "cell_type": "code",
   "execution_count": null,
   "outputs": [],
   "source": [],
   "metadata": {
    "collapsed": false,
    "pycharm": {
     "name": "#%%\n"
    }
   }
  }
 ],
 "metadata": {
  "kernelspec": {
   "display_name": "Python 3",
   "language": "python",
   "name": "python3"
  },
  "language_info": {
   "codemirror_mode": {
    "name": "ipython",
    "version": 2
   },
   "file_extension": ".py",
   "mimetype": "text/x-python",
   "name": "python",
   "nbconvert_exporter": "python",
   "pygments_lexer": "ipython2",
   "version": "2.7.6"
  }
 },
 "nbformat": 4,
 "nbformat_minor": 0
}