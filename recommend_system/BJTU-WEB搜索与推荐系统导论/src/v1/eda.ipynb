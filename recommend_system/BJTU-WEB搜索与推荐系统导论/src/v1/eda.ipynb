{
 "cells": [
  {
   "cell_type": "code",
   "execution_count": null,
   "outputs": [],
   "source": [
    "import pandas as pd\n",
    "from bjtu_programming.search_rs import DATA_DIR"
   ],
   "metadata": {
    "collapsed": false,
    "pycharm": {
     "name": "#%%\n",
     "is_executing": true
    }
   }
  },
  {
   "cell_type": "code",
   "execution_count": 30,
   "outputs": [
    {
     "name": "stdout",
     "output_type": "stream",
     "text": [
      "(100000, 8)\n"
     ]
    },
    {
     "data": {
      "text/plain": "        user_id    item_id  ctx_time_expose  ctx_net_env  u_cnt_flush  \\\n0    1000014754  463510256    1624843756147            5            0   \n1    1000014754  463852707    1624843756147            5            0   \n2    1000014754  463067100    1624757147178            5            0   \n3    1000014754  463625484    1624762446340            5            0   \n4    1000014754  463625484    1624762446340            5            0   \n..          ...        ...              ...          ...          ...   \n995  1000382512  463136369    1624701052511            2            0   \n996  1000382512  463323934    1624701052511            2            0   \n997  1000382512  462700846    1624591164565            5            1   \n998  1000382512  461910051    1624592024746            5            2   \n999  1000382512  462755551    1624592024746            5            2   \n\n     ctx_show_pos  is_click  cnt_read_duration  \n0              16         0                  0  \n1              13         1                 80  \n2              13         0                  0  \n3              12         1                268  \n4              12         1                 57  \n..            ...       ...                ...  \n995            14         1                236  \n996            16         0                  0  \n997            19         1                138  \n998            31         0                  0  \n999            32         1                 24  \n\n[1000 rows x 8 columns]",
      "text/html": "<div>\n<style scoped>\n    .dataframe tbody tr th:only-of-type {\n        vertical-align: middle;\n    }\n\n    .dataframe tbody tr th {\n        vertical-align: top;\n    }\n\n    .dataframe thead th {\n        text-align: right;\n    }\n</style>\n<table border=\"1\" class=\"dataframe\">\n  <thead>\n    <tr style=\"text-align: right;\">\n      <th></th>\n      <th>user_id</th>\n      <th>item_id</th>\n      <th>ctx_time_expose</th>\n      <th>ctx_net_env</th>\n      <th>u_cnt_flush</th>\n      <th>ctx_show_pos</th>\n      <th>is_click</th>\n      <th>cnt_read_duration</th>\n    </tr>\n  </thead>\n  <tbody>\n    <tr>\n      <th>0</th>\n      <td>1000014754</td>\n      <td>463510256</td>\n      <td>1624843756147</td>\n      <td>5</td>\n      <td>0</td>\n      <td>16</td>\n      <td>0</td>\n      <td>0</td>\n    </tr>\n    <tr>\n      <th>1</th>\n      <td>1000014754</td>\n      <td>463852707</td>\n      <td>1624843756147</td>\n      <td>5</td>\n      <td>0</td>\n      <td>13</td>\n      <td>1</td>\n      <td>80</td>\n    </tr>\n    <tr>\n      <th>2</th>\n      <td>1000014754</td>\n      <td>463067100</td>\n      <td>1624757147178</td>\n      <td>5</td>\n      <td>0</td>\n      <td>13</td>\n      <td>0</td>\n      <td>0</td>\n    </tr>\n    <tr>\n      <th>3</th>\n      <td>1000014754</td>\n      <td>463625484</td>\n      <td>1624762446340</td>\n      <td>5</td>\n      <td>0</td>\n      <td>12</td>\n      <td>1</td>\n      <td>268</td>\n    </tr>\n    <tr>\n      <th>4</th>\n      <td>1000014754</td>\n      <td>463625484</td>\n      <td>1624762446340</td>\n      <td>5</td>\n      <td>0</td>\n      <td>12</td>\n      <td>1</td>\n      <td>57</td>\n    </tr>\n    <tr>\n      <th>...</th>\n      <td>...</td>\n      <td>...</td>\n      <td>...</td>\n      <td>...</td>\n      <td>...</td>\n      <td>...</td>\n      <td>...</td>\n      <td>...</td>\n    </tr>\n    <tr>\n      <th>995</th>\n      <td>1000382512</td>\n      <td>463136369</td>\n      <td>1624701052511</td>\n      <td>2</td>\n      <td>0</td>\n      <td>14</td>\n      <td>1</td>\n      <td>236</td>\n    </tr>\n    <tr>\n      <th>996</th>\n      <td>1000382512</td>\n      <td>463323934</td>\n      <td>1624701052511</td>\n      <td>2</td>\n      <td>0</td>\n      <td>16</td>\n      <td>0</td>\n      <td>0</td>\n    </tr>\n    <tr>\n      <th>997</th>\n      <td>1000382512</td>\n      <td>462700846</td>\n      <td>1624591164565</td>\n      <td>5</td>\n      <td>1</td>\n      <td>19</td>\n      <td>1</td>\n      <td>138</td>\n    </tr>\n    <tr>\n      <th>998</th>\n      <td>1000382512</td>\n      <td>461910051</td>\n      <td>1624592024746</td>\n      <td>5</td>\n      <td>2</td>\n      <td>31</td>\n      <td>0</td>\n      <td>0</td>\n    </tr>\n    <tr>\n      <th>999</th>\n      <td>1000382512</td>\n      <td>462755551</td>\n      <td>1624592024746</td>\n      <td>5</td>\n      <td>2</td>\n      <td>32</td>\n      <td>1</td>\n      <td>24</td>\n    </tr>\n  </tbody>\n</table>\n<p>1000 rows × 8 columns</p>\n</div>"
     },
     "execution_count": 30,
     "metadata": {},
     "output_type": "execute_result"
    }
   ],
   "source": [
    "train_df = pd.read_csv(DATA_DIR.joinpath(\"train_info_100000.txt\"),\n",
    "                       sep='\\t',\n",
    "                       header=None)\n",
    "train_df.columns =[\n",
    "    \"user_id\", \"item_id\", \"ctx_time_expose\", \"ctx_net_env\", \"u_cnt_flush\",\n",
    "    \"ctx_show_pos\", \"is_click\", \"cnt_read_duration\"\n",
    "]\n",
    "print(train_df.shape)\n",
    "train_df.head(1000)"
   ],
   "metadata": {
    "collapsed": false,
    "pycharm": {
     "name": "#%%\n"
    }
   }
  },
  {
   "cell_type": "code",
   "execution_count": 29,
   "outputs": [
    {
     "name": "stdout",
     "output_type": "stream",
     "text": [
      "(50000, 6)\n"
     ]
    },
    {
     "data": {
      "text/plain": "     order     user_id    item_id  ctx_time_expose  ctx_net_env  u_cnt_flush\n0        0  2204868548  464495940    1625011774995            2            4\n1        1  1623790870  464553715    1625066054894            2            2\n2        2  1637010070  464687570    1625053546711            2           10\n3        3  1634251474  464661865    1625047014335            2           10\n4        4  2352721164  464692079    1625035383911            2           11\n..     ...         ...        ...              ...          ...          ...\n995    995  2446387898  464403926    1625009385350            5           12\n996    996  2381830862  464607987    1625035224058            2            2\n997    997  2396420110  464810321    1625061165943            2            9\n998    998  2413340866  464638532    1625033075201            5           14\n999    999  2275194816  464644966    1625037697467            2            0\n\n[1000 rows x 6 columns]",
      "text/html": "<div>\n<style scoped>\n    .dataframe tbody tr th:only-of-type {\n        vertical-align: middle;\n    }\n\n    .dataframe tbody tr th {\n        vertical-align: top;\n    }\n\n    .dataframe thead th {\n        text-align: right;\n    }\n</style>\n<table border=\"1\" class=\"dataframe\">\n  <thead>\n    <tr style=\"text-align: right;\">\n      <th></th>\n      <th>order</th>\n      <th>user_id</th>\n      <th>item_id</th>\n      <th>ctx_time_expose</th>\n      <th>ctx_net_env</th>\n      <th>u_cnt_flush</th>\n    </tr>\n  </thead>\n  <tbody>\n    <tr>\n      <th>0</th>\n      <td>0</td>\n      <td>2204868548</td>\n      <td>464495940</td>\n      <td>1625011774995</td>\n      <td>2</td>\n      <td>4</td>\n    </tr>\n    <tr>\n      <th>1</th>\n      <td>1</td>\n      <td>1623790870</td>\n      <td>464553715</td>\n      <td>1625066054894</td>\n      <td>2</td>\n      <td>2</td>\n    </tr>\n    <tr>\n      <th>2</th>\n      <td>2</td>\n      <td>1637010070</td>\n      <td>464687570</td>\n      <td>1625053546711</td>\n      <td>2</td>\n      <td>10</td>\n    </tr>\n    <tr>\n      <th>3</th>\n      <td>3</td>\n      <td>1634251474</td>\n      <td>464661865</td>\n      <td>1625047014335</td>\n      <td>2</td>\n      <td>10</td>\n    </tr>\n    <tr>\n      <th>4</th>\n      <td>4</td>\n      <td>2352721164</td>\n      <td>464692079</td>\n      <td>1625035383911</td>\n      <td>2</td>\n      <td>11</td>\n    </tr>\n    <tr>\n      <th>...</th>\n      <td>...</td>\n      <td>...</td>\n      <td>...</td>\n      <td>...</td>\n      <td>...</td>\n      <td>...</td>\n    </tr>\n    <tr>\n      <th>995</th>\n      <td>995</td>\n      <td>2446387898</td>\n      <td>464403926</td>\n      <td>1625009385350</td>\n      <td>5</td>\n      <td>12</td>\n    </tr>\n    <tr>\n      <th>996</th>\n      <td>996</td>\n      <td>2381830862</td>\n      <td>464607987</td>\n      <td>1625035224058</td>\n      <td>2</td>\n      <td>2</td>\n    </tr>\n    <tr>\n      <th>997</th>\n      <td>997</td>\n      <td>2396420110</td>\n      <td>464810321</td>\n      <td>1625061165943</td>\n      <td>2</td>\n      <td>9</td>\n    </tr>\n    <tr>\n      <th>998</th>\n      <td>998</td>\n      <td>2413340866</td>\n      <td>464638532</td>\n      <td>1625033075201</td>\n      <td>5</td>\n      <td>14</td>\n    </tr>\n    <tr>\n      <th>999</th>\n      <td>999</td>\n      <td>2275194816</td>\n      <td>464644966</td>\n      <td>1625037697467</td>\n      <td>2</td>\n      <td>0</td>\n    </tr>\n  </tbody>\n</table>\n<p>1000 rows × 6 columns</p>\n</div>"
     },
     "execution_count": 29,
     "metadata": {},
     "output_type": "execute_result"
    }
   ],
   "source": [
    "test_df = pd.read_csv(DATA_DIR.joinpath(\"test_info.txt\"),\n",
    "                      sep='\\t',\n",
    "                      header=None)\n",
    "test_df.columns =[\n",
    "    \"order\", \"user_id\", \"item_id\", \"ctx_time_expose\", \"ctx_net_env\", \"u_cnt_flush\"\n",
    "]\n",
    "print(test_df.shape)\n",
    "test_df.head(1000)"
   ],
   "metadata": {
    "collapsed": false,
    "pycharm": {
     "name": "#%%\n"
    }
   }
  },
  {
   "cell_type": "code",
   "execution_count": 28,
   "outputs": [
    {
     "name": "stdout",
     "output_type": "stream",
     "text": [
      "(1029718, 7)\n"
     ]
    },
    {
     "data": {
      "text/plain": "      user_id             ctx_device   ctx_os ctx_province ctx_city  \\\n0       17340                iPhoneX      IOS           上海       上海   \n1      394666               ARS-TL00  Android           吉林       白山   \n2      413322               iPhoneXS      IOS           北京       北京   \n3      450280               NOH-AN00  Android           湖北       武汉   \n4      456646              M2102J2SC  Android           广东       中山   \n..        ...                    ...      ...          ...      ...   \n995  23199678             M2012K11AC  Android           山东       聊城   \n996  23224752               BMH-AN10  Android           吉林       吉林   \n997  23237820                   Mi10  Android           北京       北京   \n998  23262374  MI9TransparentEdition  Android          NaN      NaN   \n999  23308754              TEL-AN00a  Android           天津       天津   \n\n                                            u_age_prob  \\\n0    A_0_24:0.029774,A_25_29:0.126834,A_30_39:0.789...   \n1    A_0_24:0.400583,A_25_29:0.261192,A_30_39:0.268...   \n2    A_0_24:0.000076,A_25_29:0.017034,A_30_39:0.972...   \n3    A_0_24:0.943772,A_25_29:0.043366,A_30_39:0.011...   \n4    A_0_24:0.024724,A_25_29:0.230098,A_30_39:0.409...   \n..                                                 ...   \n995  A_0_24:0.049074,A_25_29:0.629261,A_30_39:0.302...   \n996  A_0_24:0.008884,A_25_29:0.682589,A_30_39:0.307...   \n997  A_0_24:0.000010,A_25_29:0.000324,A_30_39:0.055...   \n998  A_0_24:0.385883,A_25_29:0.315351,A_30_39:0.242...   \n999  A_0_24:0.217336,A_25_29:0.732691,A_30_39:0.049...   \n\n                        u_sex_prob  \n0    female:0.000000,male:1.000000  \n1    female:0.000000,male:1.000000  \n2    female:0.191682,male:0.808318  \n3    female:0.198083,male:0.801917  \n4    female:0.335419,male:0.664581  \n..                             ...  \n995  female:0.000000,male:1.000000  \n996  female:0.000000,male:1.000000  \n997  female:0.000000,male:1.000000  \n998  female:0.000000,male:1.000000  \n999  female:0.000000,male:1.000000  \n\n[1000 rows x 7 columns]",
      "text/html": "<div>\n<style scoped>\n    .dataframe tbody tr th:only-of-type {\n        vertical-align: middle;\n    }\n\n    .dataframe tbody tr th {\n        vertical-align: top;\n    }\n\n    .dataframe thead th {\n        text-align: right;\n    }\n</style>\n<table border=\"1\" class=\"dataframe\">\n  <thead>\n    <tr style=\"text-align: right;\">\n      <th></th>\n      <th>user_id</th>\n      <th>ctx_device</th>\n      <th>ctx_os</th>\n      <th>ctx_province</th>\n      <th>ctx_city</th>\n      <th>u_age_prob</th>\n      <th>u_sex_prob</th>\n    </tr>\n  </thead>\n  <tbody>\n    <tr>\n      <th>0</th>\n      <td>17340</td>\n      <td>iPhoneX</td>\n      <td>IOS</td>\n      <td>上海</td>\n      <td>上海</td>\n      <td>A_0_24:0.029774,A_25_29:0.126834,A_30_39:0.789...</td>\n      <td>female:0.000000,male:1.000000</td>\n    </tr>\n    <tr>\n      <th>1</th>\n      <td>394666</td>\n      <td>ARS-TL00</td>\n      <td>Android</td>\n      <td>吉林</td>\n      <td>白山</td>\n      <td>A_0_24:0.400583,A_25_29:0.261192,A_30_39:0.268...</td>\n      <td>female:0.000000,male:1.000000</td>\n    </tr>\n    <tr>\n      <th>2</th>\n      <td>413322</td>\n      <td>iPhoneXS</td>\n      <td>IOS</td>\n      <td>北京</td>\n      <td>北京</td>\n      <td>A_0_24:0.000076,A_25_29:0.017034,A_30_39:0.972...</td>\n      <td>female:0.191682,male:0.808318</td>\n    </tr>\n    <tr>\n      <th>3</th>\n      <td>450280</td>\n      <td>NOH-AN00</td>\n      <td>Android</td>\n      <td>湖北</td>\n      <td>武汉</td>\n      <td>A_0_24:0.943772,A_25_29:0.043366,A_30_39:0.011...</td>\n      <td>female:0.198083,male:0.801917</td>\n    </tr>\n    <tr>\n      <th>4</th>\n      <td>456646</td>\n      <td>M2102J2SC</td>\n      <td>Android</td>\n      <td>广东</td>\n      <td>中山</td>\n      <td>A_0_24:0.024724,A_25_29:0.230098,A_30_39:0.409...</td>\n      <td>female:0.335419,male:0.664581</td>\n    </tr>\n    <tr>\n      <th>...</th>\n      <td>...</td>\n      <td>...</td>\n      <td>...</td>\n      <td>...</td>\n      <td>...</td>\n      <td>...</td>\n      <td>...</td>\n    </tr>\n    <tr>\n      <th>995</th>\n      <td>23199678</td>\n      <td>M2012K11AC</td>\n      <td>Android</td>\n      <td>山东</td>\n      <td>聊城</td>\n      <td>A_0_24:0.049074,A_25_29:0.629261,A_30_39:0.302...</td>\n      <td>female:0.000000,male:1.000000</td>\n    </tr>\n    <tr>\n      <th>996</th>\n      <td>23224752</td>\n      <td>BMH-AN10</td>\n      <td>Android</td>\n      <td>吉林</td>\n      <td>吉林</td>\n      <td>A_0_24:0.008884,A_25_29:0.682589,A_30_39:0.307...</td>\n      <td>female:0.000000,male:1.000000</td>\n    </tr>\n    <tr>\n      <th>997</th>\n      <td>23237820</td>\n      <td>Mi10</td>\n      <td>Android</td>\n      <td>北京</td>\n      <td>北京</td>\n      <td>A_0_24:0.000010,A_25_29:0.000324,A_30_39:0.055...</td>\n      <td>female:0.000000,male:1.000000</td>\n    </tr>\n    <tr>\n      <th>998</th>\n      <td>23262374</td>\n      <td>MI9TransparentEdition</td>\n      <td>Android</td>\n      <td>NaN</td>\n      <td>NaN</td>\n      <td>A_0_24:0.385883,A_25_29:0.315351,A_30_39:0.242...</td>\n      <td>female:0.000000,male:1.000000</td>\n    </tr>\n    <tr>\n      <th>999</th>\n      <td>23308754</td>\n      <td>TEL-AN00a</td>\n      <td>Android</td>\n      <td>天津</td>\n      <td>天津</td>\n      <td>A_0_24:0.217336,A_25_29:0.732691,A_30_39:0.049...</td>\n      <td>female:0.000000,male:1.000000</td>\n    </tr>\n  </tbody>\n</table>\n<p>1000 rows × 7 columns</p>\n</div>"
     },
     "execution_count": 28,
     "metadata": {},
     "output_type": "execute_result"
    }
   ],
   "source": [
    "user_df = pd.read_csv(DATA_DIR.joinpath(\"user_info.txt\"),\n",
    "                      sep='\\t',\n",
    "                      header=None)\n",
    "user_df.columns =[\n",
    "    \"user_id\", \"u_device\", \"u_os\", \"u_province\", \"u_city\", \"u_age_prob\", \"u_sex_prob\"\n",
    "]\n",
    "print(user_df.shape)\n",
    "user_df.head(1000)"
   ],
   "metadata": {
    "collapsed": false,
    "pycharm": {
     "name": "#%%\n"
    }
   }
  },
  {
   "cell_type": "code",
   "execution_count": 31,
   "outputs": [
    {
     "name": "stdout",
     "output_type": "stream",
     "text": [
      "(347466, 7)\n"
     ]
    },
    {
     "data": {
      "text/plain": "       item_id                            i_title  i_time_release  i_cnt_img  \\\n0    325279629                         合集|外交部每日答问    1.624890e+12        0.0   \n1    334493096                  汽车点评网友“毛蒙”分享的小视频“    1.563405e+12        0.0   \n2    341014580       抖音爆红车模小姐姐,可爱如神仙,如今大火的她还玩起这个!    1.567068e+12        3.0   \n3    344297472           一夜能挣30万的网红车模,她的捞金神器竟是这个!    1.569240e+12        3.0   \n4    347286095       男子购买假号牌被查,后备箱找到真车牌,车主直言不愿太高调    1.571271e+12        3.0   \n..         ...                                ...             ...        ...   \n995  461750018     越野车内竟然藏了个600升大油罐苏州交通执法查获“流动炸弹”    1.624321e+12        3.0   \n996  461750027        也许他才是神雕中剑法最高的人,实力超杨过却非独孤求败!    1.624321e+12        4.0   \n997  461750057           “雷车”也降价,品牌价值不足,那就只能靠价格弥补    1.624321e+12        9.0   \n998  461750099  1分2失误3大数据垫底!男篮第一天才进nba难了,投三不沾暴露软肋    1.624321e+12        6.0   \n999  461750113        6月26~29日事业有成,运势上升,付出没有白费的生肖    1.624319e+12        3.0   \n\n    i_category1 i_category2                                        i_keys_prob  \n0           NaN         NaN                                                NaN  \n1            汽车       汽车/其他                                     https:8.135272  \n2            娱乐       娱乐/其他  初恋:11.052198,吊坠:9.525825,吊坠^^耳环:7.982950,妆容:10...  \n3            娱乐       娱乐/其他  主播:10.299306,发展:7.355088,可爱:8.705284,清纯:10.108...  \n4            汽车       汽车/用车  买车:9.357286,交警:8.964902,交通:7.790495,交通^^秩序:10....  \n..          ...         ...                                                ...  \n995          案件     案件/法治案件  中石化:10.730155,公安:8.260727,加油车:16.895083,协查通报:1...  \n996        文化艺术     文化艺术/读书  一灯大师:16.885216,九阴真经:11.781893,人才:7.700833,佩剑:8...  \n997          汽车     汽车/汽车资讯  bba:10.433508,ls:15.310630,东方人:8.539490,中网:6.1...  \n998          体育     体育/中国篮球  cba:8.526146,nba^^球探:12.847561,三分球:10.587807,三...  \n999        星座运势  星座运势/风水与算命  上火:10.105922,健康:7.675954,吉星:9.438192,喉咙:7.6419...  \n\n[1000 rows x 7 columns]",
      "text/html": "<div>\n<style scoped>\n    .dataframe tbody tr th:only-of-type {\n        vertical-align: middle;\n    }\n\n    .dataframe tbody tr th {\n        vertical-align: top;\n    }\n\n    .dataframe thead th {\n        text-align: right;\n    }\n</style>\n<table border=\"1\" class=\"dataframe\">\n  <thead>\n    <tr style=\"text-align: right;\">\n      <th></th>\n      <th>item_id</th>\n      <th>i_title</th>\n      <th>i_time_release</th>\n      <th>i_cnt_img</th>\n      <th>i_category1</th>\n      <th>i_category2</th>\n      <th>i_keys_prob</th>\n    </tr>\n  </thead>\n  <tbody>\n    <tr>\n      <th>0</th>\n      <td>325279629</td>\n      <td>合集|外交部每日答问</td>\n      <td>1.624890e+12</td>\n      <td>0.0</td>\n      <td>NaN</td>\n      <td>NaN</td>\n      <td>NaN</td>\n    </tr>\n    <tr>\n      <th>1</th>\n      <td>334493096</td>\n      <td>汽车点评网友“毛蒙”分享的小视频“</td>\n      <td>1.563405e+12</td>\n      <td>0.0</td>\n      <td>汽车</td>\n      <td>汽车/其他</td>\n      <td>https:8.135272</td>\n    </tr>\n    <tr>\n      <th>2</th>\n      <td>341014580</td>\n      <td>抖音爆红车模小姐姐,可爱如神仙,如今大火的她还玩起这个!</td>\n      <td>1.567068e+12</td>\n      <td>3.0</td>\n      <td>娱乐</td>\n      <td>娱乐/其他</td>\n      <td>初恋:11.052198,吊坠:9.525825,吊坠^^耳环:7.982950,妆容:10...</td>\n    </tr>\n    <tr>\n      <th>3</th>\n      <td>344297472</td>\n      <td>一夜能挣30万的网红车模,她的捞金神器竟是这个!</td>\n      <td>1.569240e+12</td>\n      <td>3.0</td>\n      <td>娱乐</td>\n      <td>娱乐/其他</td>\n      <td>主播:10.299306,发展:7.355088,可爱:8.705284,清纯:10.108...</td>\n    </tr>\n    <tr>\n      <th>4</th>\n      <td>347286095</td>\n      <td>男子购买假号牌被查,后备箱找到真车牌,车主直言不愿太高调</td>\n      <td>1.571271e+12</td>\n      <td>3.0</td>\n      <td>汽车</td>\n      <td>汽车/用车</td>\n      <td>买车:9.357286,交警:8.964902,交通:7.790495,交通^^秩序:10....</td>\n    </tr>\n    <tr>\n      <th>...</th>\n      <td>...</td>\n      <td>...</td>\n      <td>...</td>\n      <td>...</td>\n      <td>...</td>\n      <td>...</td>\n      <td>...</td>\n    </tr>\n    <tr>\n      <th>995</th>\n      <td>461750018</td>\n      <td>越野车内竟然藏了个600升大油罐苏州交通执法查获“流动炸弹”</td>\n      <td>1.624321e+12</td>\n      <td>3.0</td>\n      <td>案件</td>\n      <td>案件/法治案件</td>\n      <td>中石化:10.730155,公安:8.260727,加油车:16.895083,协查通报:1...</td>\n    </tr>\n    <tr>\n      <th>996</th>\n      <td>461750027</td>\n      <td>也许他才是神雕中剑法最高的人,实力超杨过却非独孤求败!</td>\n      <td>1.624321e+12</td>\n      <td>4.0</td>\n      <td>文化艺术</td>\n      <td>文化艺术/读书</td>\n      <td>一灯大师:16.885216,九阴真经:11.781893,人才:7.700833,佩剑:8...</td>\n    </tr>\n    <tr>\n      <th>997</th>\n      <td>461750057</td>\n      <td>“雷车”也降价,品牌价值不足,那就只能靠价格弥补</td>\n      <td>1.624321e+12</td>\n      <td>9.0</td>\n      <td>汽车</td>\n      <td>汽车/汽车资讯</td>\n      <td>bba:10.433508,ls:15.310630,东方人:8.539490,中网:6.1...</td>\n    </tr>\n    <tr>\n      <th>998</th>\n      <td>461750099</td>\n      <td>1分2失误3大数据垫底!男篮第一天才进nba难了,投三不沾暴露软肋</td>\n      <td>1.624321e+12</td>\n      <td>6.0</td>\n      <td>体育</td>\n      <td>体育/中国篮球</td>\n      <td>cba:8.526146,nba^^球探:12.847561,三分球:10.587807,三...</td>\n    </tr>\n    <tr>\n      <th>999</th>\n      <td>461750113</td>\n      <td>6月26~29日事业有成,运势上升,付出没有白费的生肖</td>\n      <td>1.624319e+12</td>\n      <td>3.0</td>\n      <td>星座运势</td>\n      <td>星座运势/风水与算命</td>\n      <td>上火:10.105922,健康:7.675954,吉星:9.438192,喉咙:7.6419...</td>\n    </tr>\n  </tbody>\n</table>\n<p>1000 rows × 7 columns</p>\n</div>"
     },
     "execution_count": 31,
     "metadata": {},
     "output_type": "execute_result"
    }
   ],
   "source": [
    "item_df = pd.read_csv(DATA_DIR.joinpath(\"news_info.txt\"),\n",
    "                      sep='\\t',\n",
    "                      header=None)\n",
    "item_df.columns =[\n",
    "    \"item_id\", \"i_title\", \"i_time_release\", \"i_cnt_img\", \"i_category1\", \"i_category2\", \"i_keys_prob\"\n",
    "]\n",
    "print(item_df.shape)\n",
    "item_df.head(1000)"
   ],
   "metadata": {
    "collapsed": false,
    "pycharm": {
     "name": "#%%\n"
    }
   }
  },
  {
   "cell_type": "code",
   "execution_count": null,
   "outputs": [],
   "source": [],
   "metadata": {
    "collapsed": false,
    "pycharm": {
     "name": "#%%\n"
    }
   }
  }
 ],
 "metadata": {
  "kernelspec": {
   "display_name": "Python 3",
   "language": "python",
   "name": "python3"
  },
  "language_info": {
   "codemirror_mode": {
    "name": "ipython",
    "version": 2
   },
   "file_extension": ".py",
   "mimetype": "text/x-python",
   "name": "python",
   "nbconvert_exporter": "python",
   "pygments_lexer": "ipython2",
   "version": "2.7.6"
  }
 },
 "nbformat": 4,
 "nbformat_minor": 0
}